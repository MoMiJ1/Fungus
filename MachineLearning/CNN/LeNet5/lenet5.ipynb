{
 "cells": [
  {
   "cell_type": "code",
   "execution_count": 1,
   "id": "changing-asbestos",
   "metadata": {},
   "outputs": [],
   "source": [
    "from keras.models import Sequential\n",
    "from keras.layers import Dense,Flatten\n",
    "from keras.layers.convolutional import Conv2D,AveragePooling2D\n",
    "from keras.utils.np_utils import to_categorical\n",
    "from keras.datasets import mnist\n",
    "from keras.utils import plot_model\n",
    "import matplotlib.pyplot as plt"
   ]
  },
  {
   "cell_type": "code",
   "execution_count": 2,
   "id": "regulation-paper",
   "metadata": {},
   "outputs": [],
   "source": [
    "'''\n",
    "1. 读取数据\n",
    "2. 将标签分为10类，对应0~9\n",
    "3. reshape(-1,28,28,1)含义：\n",
    "    (-1):这个位置表示数据量，-1就是将剩下的所有数据都放在这\n",
    "         它也可以是其他数，如3000，就表示有3000个数据；\n",
    "    (28,28):长28，宽28；\n",
    "    (1): 颜色通道数，灰阶图是1，彩色图通常为3，表示rgb\n",
    "'''\n",
    "\n",
    "\n",
    "(x_train, y_train), (x_test, y_test) = mnist.load_data()\n",
    "x_train = x_train.reshape((-1, 28, 28, 1))\n",
    "y_train = to_categorical(y_train, 10)\n",
    "x_test = x_test.reshape((-1, 28, 28, 1))\n",
    "y_test = to_categorical(y_test, 10)"
   ]
  },
  {
   "cell_type": "code",
   "execution_count": 3,
   "id": "frozen-bracelet",
   "metadata": {},
   "outputs": [],
   "source": [
    "'''\n",
    "LeNet-5结构是：\n",
    "1.卷积层：6种5*5卷积核，步长1\n",
    "2.池化层：6种2*2采样核\n",
    "3.卷积层：16种5*5卷积核，步长1\n",
    "4.池化层：16种2*2采样核\n",
    "5.卷积层：120种5*5卷积核，步长1\n",
    "6.全连接层\n",
    "7.输出层\n",
    "'''\n",
    "\n",
    "\n",
    "model = Sequential()\n",
    "model.add(Conv2D(6, (5, 5), padding=\"valid\",activation=\"tanh\", input_shape=(28, 28, 1)))\n",
    "model.add(AveragePooling2D((2,2)))\n",
    "model.add(Conv2D(16,(5,5),padding=\"valid\",activation=\"tanh\"))\n",
    "model.add(AveragePooling2D((2,2)))\n",
    "model.add(Flatten())\n",
    "model.add(Dense(120,activation=\"tanh\"))\n",
    "model.add(Dense(84,activation=\"tanh\"))\n",
    "model.add(Dense(10,activation=\"softmax\"))"
   ]
  },
  {
   "cell_type": "code",
   "execution_count": 4,
   "id": "settled-alarm",
   "metadata": {
    "scrolled": true
   },
   "outputs": [
    {
     "name": "stdout",
     "output_type": "stream",
     "text": [
      "Model: \"sequential\"\n",
      "_________________________________________________________________\n",
      "Layer (type)                 Output Shape              Param #   \n",
      "=================================================================\n",
      "conv2d (Conv2D)              (None, 24, 24, 6)         156       \n",
      "_________________________________________________________________\n",
      "average_pooling2d (AveragePo (None, 12, 12, 6)         0         \n",
      "_________________________________________________________________\n",
      "conv2d_1 (Conv2D)            (None, 8, 8, 16)          2416      \n",
      "_________________________________________________________________\n",
      "average_pooling2d_1 (Average (None, 4, 4, 16)          0         \n",
      "_________________________________________________________________\n",
      "flatten (Flatten)            (None, 256)               0         \n",
      "_________________________________________________________________\n",
      "dense (Dense)                (None, 120)               30840     \n",
      "_________________________________________________________________\n",
      "dense_1 (Dense)              (None, 84)                10164     \n",
      "_________________________________________________________________\n",
      "dense_2 (Dense)              (None, 10)                850       \n",
      "=================================================================\n",
      "Total params: 44,426\n",
      "Trainable params: 44,426\n",
      "Non-trainable params: 0\n",
      "_________________________________________________________________\n"
     ]
    }
   ],
   "source": [
    "model.compile(optimizer=\"sgd\",loss=\"categorical_crossentropy\",metrics=[\"accuracy\"])\n",
    "model.summary()"
   ]
  },
  {
   "cell_type": "code",
   "execution_count": 5,
   "id": "convenient-lottery",
   "metadata": {
    "scrolled": true
   },
   "outputs": [
    {
     "name": "stdout",
     "output_type": "stream",
     "text": [
      "Epoch 1/30\n",
      "600/600 [==============================] - 16s 27ms/step - loss: 1.1600 - accuracy: 0.6911 - val_loss: 0.3291 - val_accuracy: 0.9232\n",
      "Epoch 2/30\n",
      "600/600 [==============================] - 15s 25ms/step - loss: 0.3078 - accuracy: 0.9254 - val_loss: 0.2100 - val_accuracy: 0.9470\n",
      "Epoch 3/30\n",
      "600/600 [==============================] - 15s 24ms/step - loss: 0.2107 - accuracy: 0.9462 - val_loss: 0.1613 - val_accuracy: 0.9571\n",
      "Epoch 4/30\n",
      "600/600 [==============================] - 15s 24ms/step - loss: 0.1686 - accuracy: 0.9553 - val_loss: 0.1365 - val_accuracy: 0.9627\n",
      "Epoch 5/30\n",
      "600/600 [==============================] - 15s 24ms/step - loss: 0.1477 - accuracy: 0.9610 - val_loss: 0.1183 - val_accuracy: 0.9676\n",
      "Epoch 6/30\n",
      "600/600 [==============================] - 15s 24ms/step - loss: 0.1261 - accuracy: 0.9666 - val_loss: 0.1072 - val_accuracy: 0.9690\n",
      "Epoch 7/30\n",
      "600/600 [==============================] - 15s 25ms/step - loss: 0.1175 - accuracy: 0.9680 - val_loss: 0.0982 - val_accuracy: 0.9726\n",
      "Epoch 8/30\n",
      "600/600 [==============================] - 15s 25ms/step - loss: 0.1096 - accuracy: 0.9702 - val_loss: 0.0915 - val_accuracy: 0.9734\n",
      "Epoch 9/30\n",
      "600/600 [==============================] - 15s 25ms/step - loss: 0.1017 - accuracy: 0.9729 - val_loss: 0.0857 - val_accuracy: 0.9751\n",
      "Epoch 10/30\n",
      "600/600 [==============================] - 15s 25ms/step - loss: 0.0925 - accuracy: 0.9747 - val_loss: 0.0792 - val_accuracy: 0.9772\n",
      "Epoch 11/30\n",
      "600/600 [==============================] - 15s 24ms/step - loss: 0.0916 - accuracy: 0.9742 - val_loss: 0.0768 - val_accuracy: 0.9789\n",
      "Epoch 12/30\n",
      "600/600 [==============================] - 15s 25ms/step - loss: 0.0850 - accuracy: 0.9763 - val_loss: 0.0722 - val_accuracy: 0.9794\n",
      "Epoch 13/30\n",
      "600/600 [==============================] - 15s 25ms/step - loss: 0.0816 - accuracy: 0.9776 - val_loss: 0.0698 - val_accuracy: 0.9798\n",
      "Epoch 14/30\n",
      "600/600 [==============================] - 15s 25ms/step - loss: 0.0782 - accuracy: 0.9781 - val_loss: 0.0663 - val_accuracy: 0.9814\n",
      "Epoch 15/30\n",
      "600/600 [==============================] - 15s 25ms/step - loss: 0.0751 - accuracy: 0.9787 - val_loss: 0.0644 - val_accuracy: 0.9809\n",
      "Epoch 16/30\n",
      "600/600 [==============================] - 15s 25ms/step - loss: 0.0727 - accuracy: 0.9796 - val_loss: 0.0612 - val_accuracy: 0.9820\n",
      "Epoch 17/30\n",
      "600/600 [==============================] - 15s 25ms/step - loss: 0.0704 - accuracy: 0.9795 - val_loss: 0.0603 - val_accuracy: 0.9828\n",
      "Epoch 18/30\n",
      "600/600 [==============================] - 15s 25ms/step - loss: 0.0657 - accuracy: 0.9815 - val_loss: 0.0584 - val_accuracy: 0.9833\n",
      "Epoch 19/30\n",
      "600/600 [==============================] - 15s 25ms/step - loss: 0.0653 - accuracy: 0.9811 - val_loss: 0.0584 - val_accuracy: 0.9812\n",
      "Epoch 20/30\n",
      "600/600 [==============================] - 15s 25ms/step - loss: 0.0630 - accuracy: 0.9817 - val_loss: 0.0550 - val_accuracy: 0.9839\n",
      "Epoch 21/30\n",
      "600/600 [==============================] - 15s 25ms/step - loss: 0.0622 - accuracy: 0.9814 - val_loss: 0.0556 - val_accuracy: 0.9822\n",
      "Epoch 22/30\n",
      "600/600 [==============================] - 15s 25ms/step - loss: 0.0584 - accuracy: 0.9832 - val_loss: 0.0540 - val_accuracy: 0.9835\n",
      "Epoch 23/30\n",
      "600/600 [==============================] - 15s 25ms/step - loss: 0.0591 - accuracy: 0.9825 - val_loss: 0.0503 - val_accuracy: 0.9845\n",
      "Epoch 24/30\n",
      "600/600 [==============================] - 15s 25ms/step - loss: 0.0559 - accuracy: 0.9838 - val_loss: 0.0523 - val_accuracy: 0.9846\n",
      "Epoch 25/30\n",
      "600/600 [==============================] - 16s 26ms/step - loss: 0.0544 - accuracy: 0.9842 - val_loss: 0.0498 - val_accuracy: 0.9852\n",
      "Epoch 26/30\n",
      "600/600 [==============================] - 15s 25ms/step - loss: 0.0540 - accuracy: 0.9839 - val_loss: 0.0491 - val_accuracy: 0.9850\n",
      "Epoch 27/30\n",
      "600/600 [==============================] - 16s 26ms/step - loss: 0.0535 - accuracy: 0.9843 - val_loss: 0.0475 - val_accuracy: 0.9850\n",
      "Epoch 28/30\n",
      "600/600 [==============================] - 15s 26ms/step - loss: 0.0510 - accuracy: 0.9848 - val_loss: 0.0462 - val_accuracy: 0.9863\n",
      "Epoch 29/30\n",
      "600/600 [==============================] - 15s 26ms/step - loss: 0.0494 - accuracy: 0.9857 - val_loss: 0.0462 - val_accuracy: 0.9859\n",
      "Epoch 30/30\n",
      "600/600 [==============================] - 15s 25ms/step - loss: 0.0480 - accuracy: 0.9858 - val_loss: 0.0492 - val_accuracy: 0.9842\n"
     ]
    }
   ],
   "source": [
    "history = model.fit(x_train,y_train,validation_data=(x_test,y_test),batch_size=100,epochs=30,shuffle=True)"
   ]
  },
  {
   "cell_type": "code",
   "execution_count": 6,
   "id": "prostate-warning",
   "metadata": {},
   "outputs": [
    {
     "data": {
      "text/plain": [
       "dict_keys(['loss', 'accuracy', 'val_loss', 'val_accuracy'])"
      ]
     },
     "execution_count": 6,
     "metadata": {},
     "output_type": "execute_result"
    }
   ],
   "source": [
    "history.history.keys()"
   ]
  },
  {
   "cell_type": "code",
   "execution_count": 7,
   "id": "governmental-stable",
   "metadata": {},
   "outputs": [
    {
     "data": {
      "image/png": "[encoded data removed]",
      "text/plain": [
       "<Figure size 432x288 with 1 Axes>"
      ]
     },
     "metadata": {
      "needs_background": "light"
     },
     "output_type": "display_data"
    }
   ],
   "source": [
    "# 训练的准确率变化\n",
    "\n",
    "plt.plot(history.history['accuracy'],color=\"#c93756\")\n",
    "plt.plot(history.history['val_accuracy'],color=\"#4b5cc4\")\n",
    "\n",
    "plt.title(\"Model Accuracy\")\n",
    "plt.xlabel(\"Epoch\")\n",
    "plt.ylabel(\"Accuracy\")\n",
    "plt.legend([\"Train\",\"Test\"])\n",
    "plt.show()"
   ]
  },
  {
   "cell_type": "code",
   "execution_count": 9,
   "id": "funded-crack",
   "metadata": {},
   "outputs": [
    {
     "data": {
      "image/png": "[encoded data removed]",
      "text/plain": [
       "<Figure size 432x288 with 1 Axes>"
      ]
     },
     "metadata": {
      "needs_background": "light"
     },
     "output_type": "display_data"
    }
   ],
   "source": [
    "# 训练/验证的损失变化\n",
    "\n",
    "plt.plot(history.history['loss'],color=\"#c93756\")\n",
    "plt.plot(history.history['val_loss'],color=\"#4b5cc4\")\n",
    "\n",
    "plt.title(\"Model Loss\")\n",
    "plt.xlabel(\"Epoch\")\n",
    "plt.ylabel(\"Loss\")\n",
    "plt.legend([\"Train\",\"Test\"])\n",
    "plt.show()"
   ]
  },
  {
   "cell_type": "code",
   "execution_count": 10,
   "id": "innocent-customer",
   "metadata": {},
   "outputs": [],
   "source": [
    "model.save(\"./LeNet5_model.h5\")"
   ]
  },
  {
   "cell_type": "code",
   "execution_count": 14,
   "id": "internal-baseline",
   "metadata": {},
   "outputs": [
    {
     "name": "stdout",
     "output_type": "stream",
     "text": [
      "              precision    recall  f1-score   support\n",
      "\n",
      "           0       0.98      0.99      0.99       980\n",
      "           1       0.99      0.99      0.99      1135\n",
      "           2       0.99      0.99      0.99      1032\n",
      "           3       0.98      0.99      0.99      1010\n",
      "           4       0.99      0.97      0.98       982\n",
      "           5       0.99      0.98      0.99       892\n",
      "           6       0.99      0.98      0.98       958\n",
      "           7       0.99      0.98      0.99      1028\n",
      "           8       0.97      0.99      0.98       974\n",
      "           9       0.97      0.98      0.97      1009\n",
      "\n",
      "    accuracy                           0.98     10000\n",
      "   macro avg       0.98      0.98      0.98     10000\n",
      "weighted avg       0.98      0.98      0.98     10000\n",
      "\n"
     ]
    }
   ],
   "source": [
    "from sklearn.metrics import classification_report\n",
    "\n",
    "preds = model.predict(x_test, batch_size=100)\n",
    "print(classification_report(y_test.argmax(axis=1), preds.argmax(axis=1)))"
   ]
  },
  {
   "cell_type": "code",
   "execution_count": 15,
   "id": "laden-glasgow",
   "metadata": {},
   "outputs": [],
   "source": [
    "# 绘制模型结构\n",
    "# plot_model(model, to_file='model.png', show_shapes=True)"
   ]
  },
  {
   "cell_type": "code",
   "execution_count": null,
   "id": "appointed-canada",
   "metadata": {},
   "outputs": [],
   "source": []
  }
 ],
 "metadata": {
  "kernelspec": {
   "display_name": "Python 3",
   "language": "python",
   "name": "python3"
  },
  "language_info": {
   "codemirror_mode": {
    "name": "ipython",
    "version": 3
   },
   "file_extension": ".py",
   "mimetype": "text/x-python",
   "name": "python",
   "nbconvert_exporter": "python",
   "pygments_lexer": "ipython3",
   "version": "3.7.7"
  },
  "varInspector": {
   "cols": {
    "lenName": 16,
    "lenType": 16,
    "lenVar": 40
   },
   "kernels_config": {
    "python": {
     "delete_cmd_postfix": "",
     "delete_cmd_prefix": "del ",
     "library": "var_list.py",
     "varRefreshCmd": "print(var_dic_list())"
    },
    "r": {
     "delete_cmd_postfix": ") ",
     "delete_cmd_prefix": "rm(",
     "library": "var_list.r",
     "varRefreshCmd": "cat(var_dic_list()) "
    }
   },
   "types_to_exclude": [
    "module",
    "function",
    "builtin_function_or_method",
    "instance",
    "_Feature"
   ],
   "window_display": false
  }
 },
 "nbformat": 4,
 "nbformat_minor": 5
}
