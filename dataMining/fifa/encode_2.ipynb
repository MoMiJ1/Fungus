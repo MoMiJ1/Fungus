{
 "cells": [
  {
   "cell_type": "code",
   "execution_count": 1,
   "id": "talented-match",
   "metadata": {},
   "outputs": [],
   "source": [
    "import matplotlib.pyplot as plt\n",
    "import pandas as pd\n",
    "import seaborn as sns\n",
    "import numpy as np\n",
    "import warnings\n",
    "from sklearn.preprocessing import OneHotEncoder\n",
    "\n",
    "warnings.filterwarnings(\"ignore\")\n",
    "\n",
    "data = pd.read_csv(\"./data.csv\",index_col=0)\n",
    "data.drop(['ID','Photo','Club Logo','Name','Flag','Jersey Number','Loaned From','Nationality'],axis=1,inplace=True)"
   ]
  },
  {
   "cell_type": "markdown",
   "id": "thick-norfolk",
   "metadata": {},
   "source": [
    "Encode\n",
    "="
   ]
  },
  {
   "cell_type": "code",
   "execution_count": 2,
   "id": "integral-peninsula",
   "metadata": {},
   "outputs": [
    {
     "data": {
      "text/html": [
       "<div>\n",
       "<style scoped>\n",
       "    .dataframe tbody tr th:only-of-type {\n",
       "        vertical-align: middle;\n",
       "    }\n",
       "\n",
       "    .dataframe tbody tr th {\n",
       "        vertical-align: top;\n",
       "    }\n",
       "\n",
       "    .dataframe thead th {\n",
       "        text-align: right;\n",
       "    }\n",
       "</style>\n",
       "<table border=\"1\" class=\"dataframe\">\n",
       "  <thead>\n",
       "    <tr style=\"text-align: right;\">\n",
       "      <th></th>\n",
       "      <th>Contract Valid Until</th>\n",
       "      <th>Joined</th>\n",
       "    </tr>\n",
       "  </thead>\n",
       "  <tbody>\n",
       "    <tr>\n",
       "      <th>0</th>\n",
       "      <td>2021</td>\n",
       "      <td>Jul 1, 2004</td>\n",
       "    </tr>\n",
       "    <tr>\n",
       "      <th>1</th>\n",
       "      <td>2022</td>\n",
       "      <td>Jul 10, 2018</td>\n",
       "    </tr>\n",
       "    <tr>\n",
       "      <th>2</th>\n",
       "      <td>2022</td>\n",
       "      <td>Aug 3, 2017</td>\n",
       "    </tr>\n",
       "    <tr>\n",
       "      <th>3</th>\n",
       "      <td>2020</td>\n",
       "      <td>Jul 1, 2011</td>\n",
       "    </tr>\n",
       "    <tr>\n",
       "      <th>4</th>\n",
       "      <td>2023</td>\n",
       "      <td>Aug 30, 2015</td>\n",
       "    </tr>\n",
       "  </tbody>\n",
       "</table>\n",
       "</div>"
      ],
      "text/plain": [
       "  Contract Valid Until        Joined\n",
       "0                 2021   Jul 1, 2004\n",
       "1                 2022  Jul 10, 2018\n",
       "2                 2022   Aug 3, 2017\n",
       "3                 2020   Jul 1, 2011\n",
       "4                 2023  Aug 30, 2015"
      ]
     },
     "execution_count": 2,
     "metadata": {},
     "output_type": "execute_result"
    }
   ],
   "source": [
    "data[['Contract Valid Until','Joined']].head(5)"
   ]
  },
  {
   "cell_type": "code",
   "execution_count": 3,
   "id": "median-blackjack",
   "metadata": {},
   "outputs": [
    {
     "data": {
      "text/plain": [
       "2019            4819\n",
       "2021            4360\n",
       "2020            4027\n",
       "2022            1477\n",
       "2023            1053\n",
       "Jun 30, 2019     931\n",
       "2018             886\n",
       "Dec 31, 2018     144\n",
       "May 31, 2019      60\n",
       "Jan 1, 2019       51\n",
       "2024              23\n",
       "Jun 30, 2020      14\n",
       "Jan 31, 2019      13\n",
       "2025               7\n",
       "Jan 5, 2019        6\n",
       "Jan 2, 2019        6\n",
       "Jan 12, 2019       5\n",
       "Oct 14, 2019       5\n",
       "Jan 6, 2019        4\n",
       "Dec 31, 2019       3\n",
       "Jan 7, 2019        3\n",
       "Jan 25, 2019       3\n",
       "2026               2\n",
       "Nov 30, 2018       2\n",
       "May 31, 2020       2\n",
       "Dec 1, 2019        2\n",
       "Feb 27, 2020       1\n",
       "Jan 4, 2019        1\n",
       "Jan 11, 2019       1\n",
       "Jan 3, 2019        1\n",
       "Jan 20, 2019       1\n",
       "Jan 18, 2019       1\n",
       "Jan 15, 2019       1\n",
       "Jan 30, 2019       1\n",
       "Jun 1, 2019        1\n",
       "May 4, 2019        1\n",
       "Name: Contract Valid Until, dtype: int64"
      ]
     },
     "execution_count": 3,
     "metadata": {},
     "output_type": "execute_result"
    }
   ],
   "source": [
    "data['Contract Valid Until'].value_counts()"
   ]
  },
  {
   "cell_type": "code",
   "execution_count": 4,
   "id": "stable-translation",
   "metadata": {},
   "outputs": [
    {
     "data": {
      "text/plain": [
       "array([2021, 2022, 2020, 2023, 2019, 2024, 2025, 2026, 2018])"
      ]
     },
     "execution_count": 4,
     "metadata": {},
     "output_type": "execute_result"
    }
   ],
   "source": [
    "data['Contract Valid Until'] = data['Contract Valid Until'].str.extract('(\\d+)$')\n",
    "data['Contract Valid Until'] = data['Contract Valid Until'].fillna(2019)\n",
    "data['Contract Valid Until'] = data['Contract Valid Until'].astype('int')\n",
    "\n",
    "data['Contract Valid Until'].unique()"
   ]
  },
  {
   "cell_type": "code",
   "execution_count": 5,
   "id": "pressed-background",
   "metadata": {},
   "outputs": [
    {
     "data": {
      "text/html": [
       "<div>\n",
       "<style scoped>\n",
       "    .dataframe tbody tr th:only-of-type {\n",
       "        vertical-align: middle;\n",
       "    }\n",
       "\n",
       "    .dataframe tbody tr th {\n",
       "        vertical-align: top;\n",
       "    }\n",
       "\n",
       "    .dataframe thead th {\n",
       "        text-align: right;\n",
       "    }\n",
       "</style>\n",
       "<table border=\"1\" class=\"dataframe\">\n",
       "  <thead>\n",
       "    <tr style=\"text-align: right;\">\n",
       "      <th></th>\n",
       "      <th>RS</th>\n",
       "      <th>LW</th>\n",
       "      <th>LF</th>\n",
       "      <th>CF</th>\n",
       "      <th>RF</th>\n",
       "      <th>RW</th>\n",
       "      <th>LAM</th>\n",
       "      <th>CAM</th>\n",
       "      <th>RAM</th>\n",
       "      <th>LM</th>\n",
       "      <th>...</th>\n",
       "      <th>CDM</th>\n",
       "      <th>RDM</th>\n",
       "      <th>RWB</th>\n",
       "      <th>LB</th>\n",
       "      <th>LCB</th>\n",
       "      <th>CB</th>\n",
       "      <th>RCB</th>\n",
       "      <th>RB</th>\n",
       "      <th>Crossing</th>\n",
       "      <th>Finishing</th>\n",
       "    </tr>\n",
       "  </thead>\n",
       "  <tbody>\n",
       "    <tr>\n",
       "      <th>0</th>\n",
       "      <td>88+2</td>\n",
       "      <td>92+2</td>\n",
       "      <td>93+2</td>\n",
       "      <td>93+2</td>\n",
       "      <td>93+2</td>\n",
       "      <td>92+2</td>\n",
       "      <td>93+2</td>\n",
       "      <td>93+2</td>\n",
       "      <td>93+2</td>\n",
       "      <td>91+2</td>\n",
       "      <td>...</td>\n",
       "      <td>61+2</td>\n",
       "      <td>61+2</td>\n",
       "      <td>64+2</td>\n",
       "      <td>59+2</td>\n",
       "      <td>47+2</td>\n",
       "      <td>47+2</td>\n",
       "      <td>47+2</td>\n",
       "      <td>59+2</td>\n",
       "      <td>84.0</td>\n",
       "      <td>95.0</td>\n",
       "    </tr>\n",
       "    <tr>\n",
       "      <th>1</th>\n",
       "      <td>91+3</td>\n",
       "      <td>89+3</td>\n",
       "      <td>90+3</td>\n",
       "      <td>90+3</td>\n",
       "      <td>90+3</td>\n",
       "      <td>89+3</td>\n",
       "      <td>88+3</td>\n",
       "      <td>88+3</td>\n",
       "      <td>88+3</td>\n",
       "      <td>88+3</td>\n",
       "      <td>...</td>\n",
       "      <td>61+3</td>\n",
       "      <td>61+3</td>\n",
       "      <td>65+3</td>\n",
       "      <td>61+3</td>\n",
       "      <td>53+3</td>\n",
       "      <td>53+3</td>\n",
       "      <td>53+3</td>\n",
       "      <td>61+3</td>\n",
       "      <td>84.0</td>\n",
       "      <td>94.0</td>\n",
       "    </tr>\n",
       "    <tr>\n",
       "      <th>2</th>\n",
       "      <td>84+3</td>\n",
       "      <td>89+3</td>\n",
       "      <td>89+3</td>\n",
       "      <td>89+3</td>\n",
       "      <td>89+3</td>\n",
       "      <td>89+3</td>\n",
       "      <td>89+3</td>\n",
       "      <td>89+3</td>\n",
       "      <td>89+3</td>\n",
       "      <td>88+3</td>\n",
       "      <td>...</td>\n",
       "      <td>60+3</td>\n",
       "      <td>60+3</td>\n",
       "      <td>65+3</td>\n",
       "      <td>60+3</td>\n",
       "      <td>47+3</td>\n",
       "      <td>47+3</td>\n",
       "      <td>47+3</td>\n",
       "      <td>60+3</td>\n",
       "      <td>79.0</td>\n",
       "      <td>87.0</td>\n",
       "    </tr>\n",
       "    <tr>\n",
       "      <th>3</th>\n",
       "      <td>NaN</td>\n",
       "      <td>NaN</td>\n",
       "      <td>NaN</td>\n",
       "      <td>NaN</td>\n",
       "      <td>NaN</td>\n",
       "      <td>NaN</td>\n",
       "      <td>NaN</td>\n",
       "      <td>NaN</td>\n",
       "      <td>NaN</td>\n",
       "      <td>NaN</td>\n",
       "      <td>...</td>\n",
       "      <td>NaN</td>\n",
       "      <td>NaN</td>\n",
       "      <td>NaN</td>\n",
       "      <td>NaN</td>\n",
       "      <td>NaN</td>\n",
       "      <td>NaN</td>\n",
       "      <td>NaN</td>\n",
       "      <td>NaN</td>\n",
       "      <td>17.0</td>\n",
       "      <td>13.0</td>\n",
       "    </tr>\n",
       "    <tr>\n",
       "      <th>4</th>\n",
       "      <td>82+3</td>\n",
       "      <td>87+3</td>\n",
       "      <td>87+3</td>\n",
       "      <td>87+3</td>\n",
       "      <td>87+3</td>\n",
       "      <td>87+3</td>\n",
       "      <td>88+3</td>\n",
       "      <td>88+3</td>\n",
       "      <td>88+3</td>\n",
       "      <td>88+3</td>\n",
       "      <td>...</td>\n",
       "      <td>77+3</td>\n",
       "      <td>77+3</td>\n",
       "      <td>77+3</td>\n",
       "      <td>73+3</td>\n",
       "      <td>66+3</td>\n",
       "      <td>66+3</td>\n",
       "      <td>66+3</td>\n",
       "      <td>73+3</td>\n",
       "      <td>93.0</td>\n",
       "      <td>82.0</td>\n",
       "    </tr>\n",
       "  </tbody>\n",
       "</table>\n",
       "<p>5 rows × 26 columns</p>\n",
       "</div>"
      ],
      "text/plain": [
       "     RS    LW    LF    CF    RF    RW   LAM   CAM   RAM    LM  ...   CDM  \\\n",
       "0  88+2  92+2  93+2  93+2  93+2  92+2  93+2  93+2  93+2  91+2  ...  61+2   \n",
       "1  91+3  89+3  90+3  90+3  90+3  89+3  88+3  88+3  88+3  88+3  ...  61+3   \n",
       "2  84+3  89+3  89+3  89+3  89+3  89+3  89+3  89+3  89+3  88+3  ...  60+3   \n",
       "3   NaN   NaN   NaN   NaN   NaN   NaN   NaN   NaN   NaN   NaN  ...   NaN   \n",
       "4  82+3  87+3  87+3  87+3  87+3  87+3  88+3  88+3  88+3  88+3  ...  77+3   \n",
       "\n",
       "    RDM   RWB    LB   LCB    CB   RCB    RB Crossing Finishing  \n",
       "0  61+2  64+2  59+2  47+2  47+2  47+2  59+2     84.0      95.0  \n",
       "1  61+3  65+3  61+3  53+3  53+3  53+3  61+3     84.0      94.0  \n",
       "2  60+3  65+3  60+3  47+3  47+3  47+3  60+3     79.0      87.0  \n",
       "3   NaN   NaN   NaN   NaN   NaN   NaN   NaN     17.0      13.0  \n",
       "4  77+3  77+3  73+3  66+3  66+3  66+3  73+3     93.0      82.0  \n",
       "\n",
       "[5 rows x 26 columns]"
      ]
     },
     "execution_count": 5,
     "metadata": {},
     "output_type": "execute_result"
    }
   ],
   "source": [
    "data[data.columns[range(21,47)]].head(5)"
   ]
  },
  {
   "cell_type": "code",
   "execution_count": 6,
   "id": "fixed-causing",
   "metadata": {},
   "outputs": [
    {
     "data": {
      "text/plain": [
       "array([2004, 2018, 2017, 2011, 2015, 2012, 2014, 2005, 2010, 2016, 2008,\n",
       "       2013, 2007, 2009, 2002, 2003, 2006, 2001, 1991, 1998, 2000, 1999])"
      ]
     },
     "execution_count": 6,
     "metadata": {},
     "output_type": "execute_result"
    }
   ],
   "source": [
    "data['Joined'] = data['Joined'].str.extract('(\\d+)$')\n",
    "data['Joined'] = data['Joined'].fillna(2018)\n",
    "data['Joined'] = data['Joined'].astype('int')\n",
    "data['Joined'].unique()"
   ]
  },
  {
   "cell_type": "code",
   "execution_count": 7,
   "id": "prospective-closer",
   "metadata": {},
   "outputs": [
    {
     "data": {
      "text/html": [
       "<div>\n",
       "<style scoped>\n",
       "    .dataframe tbody tr th:only-of-type {\n",
       "        vertical-align: middle;\n",
       "    }\n",
       "\n",
       "    .dataframe tbody tr th {\n",
       "        vertical-align: top;\n",
       "    }\n",
       "\n",
       "    .dataframe thead th {\n",
       "        text-align: right;\n",
       "    }\n",
       "</style>\n",
       "<table border=\"1\" class=\"dataframe\">\n",
       "  <thead>\n",
       "    <tr style=\"text-align: right;\">\n",
       "      <th></th>\n",
       "      <th>LS</th>\n",
       "      <th>ST</th>\n",
       "      <th>RS</th>\n",
       "      <th>LW</th>\n",
       "      <th>LF</th>\n",
       "      <th>CF</th>\n",
       "      <th>RF</th>\n",
       "      <th>RW</th>\n",
       "      <th>LAM</th>\n",
       "      <th>CAM</th>\n",
       "      <th>...</th>\n",
       "      <th>LWB</th>\n",
       "      <th>LDM</th>\n",
       "      <th>CDM</th>\n",
       "      <th>RDM</th>\n",
       "      <th>RWB</th>\n",
       "      <th>LB</th>\n",
       "      <th>LCB</th>\n",
       "      <th>CB</th>\n",
       "      <th>RCB</th>\n",
       "      <th>RB</th>\n",
       "    </tr>\n",
       "  </thead>\n",
       "  <tbody>\n",
       "    <tr>\n",
       "      <th>0</th>\n",
       "      <td>89.0</td>\n",
       "      <td>89.0</td>\n",
       "      <td>89.0</td>\n",
       "      <td>93.0</td>\n",
       "      <td>94.0</td>\n",
       "      <td>94.0</td>\n",
       "      <td>94.0</td>\n",
       "      <td>93.0</td>\n",
       "      <td>94.0</td>\n",
       "      <td>94.0</td>\n",
       "      <td>...</td>\n",
       "      <td>65.0</td>\n",
       "      <td>62.0</td>\n",
       "      <td>62.0</td>\n",
       "      <td>62.0</td>\n",
       "      <td>65.0</td>\n",
       "      <td>60.0</td>\n",
       "      <td>48.0</td>\n",
       "      <td>48.0</td>\n",
       "      <td>48.0</td>\n",
       "      <td>60.0</td>\n",
       "    </tr>\n",
       "    <tr>\n",
       "      <th>1</th>\n",
       "      <td>92.5</td>\n",
       "      <td>92.5</td>\n",
       "      <td>92.5</td>\n",
       "      <td>90.5</td>\n",
       "      <td>91.5</td>\n",
       "      <td>91.5</td>\n",
       "      <td>91.5</td>\n",
       "      <td>90.5</td>\n",
       "      <td>89.5</td>\n",
       "      <td>89.5</td>\n",
       "      <td>...</td>\n",
       "      <td>66.5</td>\n",
       "      <td>62.5</td>\n",
       "      <td>62.5</td>\n",
       "      <td>62.5</td>\n",
       "      <td>66.5</td>\n",
       "      <td>62.5</td>\n",
       "      <td>54.5</td>\n",
       "      <td>54.5</td>\n",
       "      <td>54.5</td>\n",
       "      <td>62.5</td>\n",
       "    </tr>\n",
       "    <tr>\n",
       "      <th>2</th>\n",
       "      <td>85.5</td>\n",
       "      <td>85.5</td>\n",
       "      <td>85.5</td>\n",
       "      <td>90.5</td>\n",
       "      <td>90.5</td>\n",
       "      <td>90.5</td>\n",
       "      <td>90.5</td>\n",
       "      <td>90.5</td>\n",
       "      <td>90.5</td>\n",
       "      <td>90.5</td>\n",
       "      <td>...</td>\n",
       "      <td>66.5</td>\n",
       "      <td>61.5</td>\n",
       "      <td>61.5</td>\n",
       "      <td>61.5</td>\n",
       "      <td>66.5</td>\n",
       "      <td>61.5</td>\n",
       "      <td>48.5</td>\n",
       "      <td>48.5</td>\n",
       "      <td>48.5</td>\n",
       "      <td>61.5</td>\n",
       "    </tr>\n",
       "    <tr>\n",
       "      <th>3</th>\n",
       "      <td>0.0</td>\n",
       "      <td>0.0</td>\n",
       "      <td>0.0</td>\n",
       "      <td>0.0</td>\n",
       "      <td>0.0</td>\n",
       "      <td>0.0</td>\n",
       "      <td>0.0</td>\n",
       "      <td>0.0</td>\n",
       "      <td>0.0</td>\n",
       "      <td>0.0</td>\n",
       "      <td>...</td>\n",
       "      <td>0.0</td>\n",
       "      <td>0.0</td>\n",
       "      <td>0.0</td>\n",
       "      <td>0.0</td>\n",
       "      <td>0.0</td>\n",
       "      <td>0.0</td>\n",
       "      <td>0.0</td>\n",
       "      <td>0.0</td>\n",
       "      <td>0.0</td>\n",
       "      <td>0.0</td>\n",
       "    </tr>\n",
       "    <tr>\n",
       "      <th>4</th>\n",
       "      <td>83.5</td>\n",
       "      <td>83.5</td>\n",
       "      <td>83.5</td>\n",
       "      <td>88.5</td>\n",
       "      <td>88.5</td>\n",
       "      <td>88.5</td>\n",
       "      <td>88.5</td>\n",
       "      <td>88.5</td>\n",
       "      <td>89.5</td>\n",
       "      <td>89.5</td>\n",
       "      <td>...</td>\n",
       "      <td>78.5</td>\n",
       "      <td>78.5</td>\n",
       "      <td>78.5</td>\n",
       "      <td>78.5</td>\n",
       "      <td>78.5</td>\n",
       "      <td>74.5</td>\n",
       "      <td>67.5</td>\n",
       "      <td>67.5</td>\n",
       "      <td>67.5</td>\n",
       "      <td>74.5</td>\n",
       "    </tr>\n",
       "  </tbody>\n",
       "</table>\n",
       "<p>5 rows × 26 columns</p>\n",
       "</div>"
      ],
      "text/plain": [
       "     LS    ST    RS    LW    LF    CF    RF    RW   LAM   CAM  ...   LWB  \\\n",
       "0  89.0  89.0  89.0  93.0  94.0  94.0  94.0  93.0  94.0  94.0  ...  65.0   \n",
       "1  92.5  92.5  92.5  90.5  91.5  91.5  91.5  90.5  89.5  89.5  ...  66.5   \n",
       "2  85.5  85.5  85.5  90.5  90.5  90.5  90.5  90.5  90.5  90.5  ...  66.5   \n",
       "3   0.0   0.0   0.0   0.0   0.0   0.0   0.0   0.0   0.0   0.0  ...   0.0   \n",
       "4  83.5  83.5  83.5  88.5  88.5  88.5  88.5  88.5  89.5  89.5  ...  78.5   \n",
       "\n",
       "    LDM   CDM   RDM   RWB    LB   LCB    CB   RCB    RB  \n",
       "0  62.0  62.0  62.0  65.0  60.0  48.0  48.0  48.0  60.0  \n",
       "1  62.5  62.5  62.5  66.5  62.5  54.5  54.5  54.5  62.5  \n",
       "2  61.5  61.5  61.5  66.5  61.5  48.5  48.5  48.5  61.5  \n",
       "3   0.0   0.0   0.0   0.0   0.0   0.0   0.0   0.0   0.0  \n",
       "4  78.5  78.5  78.5  78.5  74.5  67.5  67.5  67.5  74.5  \n",
       "\n",
       "[5 rows x 26 columns]"
      ]
     },
     "execution_count": 7,
     "metadata": {},
     "output_type": "execute_result"
    }
   ],
   "source": [
    "colName = data.columns[range(19,45)].values\n",
    "for i in range(26):\n",
    "    df = data[colName[i]].str.extract('(\\d+)\\+(\\d+)')\n",
    "    df = df.fillna(0)\n",
    "    df[df.columns[[0,1]]] = df[df.columns[[0,1]]].astype('int')\n",
    "    data[colName[i]] = df[df.columns[0]]+df[df.columns[1]]/2\n",
    "data[data.columns[range(19,45)]].head(5)"
   ]
  },
  {
   "cell_type": "code",
   "execution_count": 8,
   "id": "boxed-flood",
   "metadata": {},
   "outputs": [],
   "source": [
    "data['Wage'].replace('[€K]', '', inplace=True, regex=True)\n",
    "data['Value'].replace('[€KM]', '', inplace=True, regex=True)\n",
    "data['Release Clause'].replace('[€KM]', '', inplace=True, regex=True)\n",
    "\n",
    "data['Wage'] = data['Wage'].astype(float)\n",
    "data['Value'] = data['Value'].astype(float)\n",
    "data['Release Clause'] = data['Release Clause'].astype(float)"
   ]
  },
  {
   "cell_type": "code",
   "execution_count": 9,
   "id": "danish-encounter",
   "metadata": {},
   "outputs": [
    {
     "data": {
      "text/plain": [
       "array([0., 1., 2.])"
      ]
     },
     "execution_count": 9,
     "metadata": {},
     "output_type": "execute_result"
    }
   ],
   "source": [
    "maps = {'Left':0, 'Right':1}\n",
    "data['Preferred Foot'] = data['Preferred Foot'].map(maps)\n",
    "data['Preferred Foot'] = data['Preferred Foot'].fillna(2)\n",
    "data['Preferred Foot'].unique()"
   ]
  },
  {
   "cell_type": "code",
   "execution_count": 10,
   "id": "polyphonic-radar",
   "metadata": {},
   "outputs": [
    {
     "data": {
      "text/html": [
       "<div>\n",
       "<style scoped>\n",
       "    .dataframe tbody tr th:only-of-type {\n",
       "        vertical-align: middle;\n",
       "    }\n",
       "\n",
       "    .dataframe tbody tr th {\n",
       "        vertical-align: top;\n",
       "    }\n",
       "\n",
       "    .dataframe thead th {\n",
       "        text-align: right;\n",
       "    }\n",
       "</style>\n",
       "<table border=\"1\" class=\"dataframe\">\n",
       "  <thead>\n",
       "    <tr style=\"text-align: right;\">\n",
       "      <th></th>\n",
       "      <th>Work Rate</th>\n",
       "      <th>Body Type</th>\n",
       "      <th>Real Face</th>\n",
       "      <th>Height</th>\n",
       "      <th>Weight</th>\n",
       "    </tr>\n",
       "  </thead>\n",
       "  <tbody>\n",
       "    <tr>\n",
       "      <th>0</th>\n",
       "      <td>Medium/ Medium</td>\n",
       "      <td>Messi</td>\n",
       "      <td>Yes</td>\n",
       "      <td>5'7</td>\n",
       "      <td>159lbs</td>\n",
       "    </tr>\n",
       "    <tr>\n",
       "      <th>1</th>\n",
       "      <td>High/ Low</td>\n",
       "      <td>C. Ronaldo</td>\n",
       "      <td>Yes</td>\n",
       "      <td>6'2</td>\n",
       "      <td>183lbs</td>\n",
       "    </tr>\n",
       "    <tr>\n",
       "      <th>2</th>\n",
       "      <td>High/ Medium</td>\n",
       "      <td>Neymar</td>\n",
       "      <td>Yes</td>\n",
       "      <td>5'9</td>\n",
       "      <td>150lbs</td>\n",
       "    </tr>\n",
       "    <tr>\n",
       "      <th>3</th>\n",
       "      <td>Medium/ Medium</td>\n",
       "      <td>Lean</td>\n",
       "      <td>Yes</td>\n",
       "      <td>6'4</td>\n",
       "      <td>168lbs</td>\n",
       "    </tr>\n",
       "    <tr>\n",
       "      <th>4</th>\n",
       "      <td>High/ High</td>\n",
       "      <td>Normal</td>\n",
       "      <td>Yes</td>\n",
       "      <td>5'11</td>\n",
       "      <td>154lbs</td>\n",
       "    </tr>\n",
       "  </tbody>\n",
       "</table>\n",
       "</div>"
      ],
      "text/plain": [
       "        Work Rate   Body Type Real Face Height  Weight\n",
       "0  Medium/ Medium       Messi       Yes    5'7  159lbs\n",
       "1       High/ Low  C. Ronaldo       Yes    6'2  183lbs\n",
       "2    High/ Medium      Neymar       Yes    5'9  150lbs\n",
       "3  Medium/ Medium        Lean       Yes    6'4  168lbs\n",
       "4      High/ High      Normal       Yes   5'11  154lbs"
      ]
     },
     "execution_count": 10,
     "metadata": {},
     "output_type": "execute_result"
    }
   ],
   "source": [
    "data[['Work Rate','Body Type','Real Face','Height','Weight']].head(5)"
   ]
  },
  {
   "cell_type": "code",
   "execution_count": 11,
   "id": "experienced-rochester",
   "metadata": {},
   "outputs": [
    {
     "data": {
      "text/plain": [
       "0"
      ]
     },
     "execution_count": 11,
     "metadata": {},
     "output_type": "execute_result"
    }
   ],
   "source": [
    "data['Weight'].replace('[lbs]', '', inplace=True, regex=True)\n",
    "data['Weight'] = data['Weight'].astype(float)\n",
    "data['Weight'] = data['Weight'].fillna(data['Weight'].mean())\n",
    "data['Weight'].isnull().sum()"
   ]
  },
  {
   "cell_type": "code",
   "execution_count": 12,
   "id": "ordinary-literature",
   "metadata": {},
   "outputs": [
    {
     "data": {
      "text/plain": [
       "0    67.0\n",
       "1    74.0\n",
       "2    69.0\n",
       "3    76.0\n",
       "4    71.0\n",
       "Name: Height, dtype: float64"
      ]
     },
     "execution_count": 12,
     "metadata": {},
     "output_type": "execute_result"
    }
   ],
   "source": [
    "data[['H1','H2']] = data['Height'].str.extract(\"(\\d+)\\'(\\d+)\",expand=False)\n",
    "data[['H1','H2']] = data[['H1','H2']].astype(float)\n",
    "data['Height'] = data['H1']*12+data['H2']\n",
    "data = data.drop(columns=['H1','H2'])\n",
    "data['Height'].head(5)"
   ]
  },
  {
   "cell_type": "code",
   "execution_count": 13,
   "id": "amino-wednesday",
   "metadata": {},
   "outputs": [
    {
     "data": {
      "text/plain": [
       "array([1., 0.])"
      ]
     },
     "execution_count": 13,
     "metadata": {},
     "output_type": "execute_result"
    }
   ],
   "source": [
    "maps = {'No':0, 'Yes':1}\n",
    "data['Real Face'] = data['Real Face'].map(maps)\n",
    "data['Real Face'] = data['Real Face'].fillna(0)\n",
    "data['Real Face'].unique()"
   ]
  },
  {
   "cell_type": "code",
   "execution_count": 14,
   "id": "sapphire-routine",
   "metadata": {},
   "outputs": [
    {
     "data": {
      "text/plain": [
       "array(['Forward', 'ATK', 'GK', 'Mid', 'Guard', 'None'], dtype=object)"
      ]
     },
     "execution_count": 14,
     "metadata": {},
     "output_type": "execute_result"
    }
   ],
   "source": [
    "ATK1 = ['LS','ST','RS']\n",
    "ATK2 = ['LW','LF','CF','RF','RW']\n",
    "MID = ['LAM','CAM','RAM','LM','LCM','CM','RCM','RM']\n",
    "BACK = ['LWB','LDM','CDM','RDM','RWB','LB','LCB','CB','RCB','RB']\n",
    "GK = ['GK']\n",
    "\n",
    "map1 = {i : 'ATK' for i in ATK1}\n",
    "map2 = {i : 'Forward' for i in ATK2}\n",
    "map3 = {i : 'Mid' for i in MID}\n",
    "map4 = {i : 'Guard' for i in BACK}\n",
    "map5 = {i : 'GK' for i in GK}\n",
    "maps = dict(**map1,**map2,**map3,**map4,**map5)\n",
    "\n",
    "data['Position'] = data['Position'].map(maps)\n",
    "data['Position'] = data['Position'].fillna('None')\n",
    "data['Position'].unique()"
   ]
  },
  {
   "cell_type": "code",
   "execution_count": 15,
   "id": "micro-california",
   "metadata": {},
   "outputs": [],
   "source": [
    "data = data.join(pd.get_dummies(data.Position))\n",
    "data.drop(['Position','None'],axis=1,inplace=True)"
   ]
  },
  {
   "cell_type": "code",
   "execution_count": 16,
   "id": "suitable-impact",
   "metadata": {},
   "outputs": [
    {
     "data": {
      "text/plain": [
       "Normal                 10595\n",
       "Lean                    6417\n",
       "Stocky                  1140\n",
       "SpecialBody                6\n",
       "PLAYER_BODY_TYPE_25        1\n",
       "Name: Body Type, dtype: int64"
      ]
     },
     "execution_count": 16,
     "metadata": {},
     "output_type": "execute_result"
    }
   ],
   "source": [
    "maps = {'Courtois':'SpecialBody', 'C. Ronaldo':'SpecialBody', 'Akinfenwa':'SpecialBody',\n",
    "        'Messi':'SpecialBody', 'Neymar':'SpecialBody', 'Shaqiri':'SpecialBody', \n",
    "       'Normal':'Normal', 'Lean':'Lean', 'Stocky':'Stocky', 'PLAYER_BODY_TYPE_25':'PLAYER_BODY_TYPE_25'}\n",
    "data['Body Type'] = data['Body Type'].map(maps)\n",
    "data['Body Type'].value_counts()"
   ]
  },
  {
   "cell_type": "code",
   "execution_count": 17,
   "id": "affected-matrix",
   "metadata": {},
   "outputs": [],
   "source": [
    "data['Body Type'] = data['Body Type'].fillna('Normal')\n",
    "data = data.join(pd.get_dummies(data['Body Type']))\n",
    "data.drop(['Body Type'],axis=1,inplace=True)"
   ]
  },
  {
   "cell_type": "code",
   "execution_count": 18,
   "id": "catholic-nylon",
   "metadata": {},
   "outputs": [
    {
     "data": {
      "text/plain": [
       "Medium/ Medium    9810\n",
       "High/ Medium      3173\n",
       "Medium/ High      1690\n",
       "High/ High        1015\n",
       "Medium/ Low        850\n",
       "High/ Low          699\n",
       "Low/ Medium        449\n",
       "Low/ High          439\n",
       "Low/ Low            34\n",
       "Name: Work Rate, dtype: int64"
      ]
     },
     "execution_count": 18,
     "metadata": {},
     "output_type": "execute_result"
    }
   ],
   "source": [
    "data['Work Rate'].value_counts()"
   ]
  },
  {
   "cell_type": "code",
   "execution_count": 19,
   "id": "higher-leisure",
   "metadata": {},
   "outputs": [],
   "source": [
    "data['Work Rate'] = data['Work Rate'].fillna('Medium/ Medium')\n",
    "data = data.join(pd.get_dummies(data['Work Rate']))\n",
    "data.drop(['Work Rate'],axis=1,inplace=True)"
   ]
  },
  {
   "cell_type": "code",
   "execution_count": 20,
   "id": "informational-dress",
   "metadata": {},
   "outputs": [
    {
     "data": {
      "text/plain": [
       "RC Celta             33\n",
       "Frosinone            33\n",
       "Liverpool            33\n",
       "Arsenal              33\n",
       "Tottenham Hotspur    33\n",
       "                     ..\n",
       "Paraná               20\n",
       "Botafogo             20\n",
       "Sligo Rovers         19\n",
       "Limerick FC          19\n",
       "Derry City           18\n",
       "Name: Club, Length: 651, dtype: int64"
      ]
     },
     "execution_count": 20,
     "metadata": {},
     "output_type": "execute_result"
    }
   ],
   "source": [
    "data['Club'].value_counts(ascending=False)"
   ]
  },
  {
   "cell_type": "code",
   "execution_count": 21,
   "id": "presidential-humor",
   "metadata": {},
   "outputs": [
    {
     "data": {
      "text/plain": [
       "(18207, 747)"
      ]
     },
     "execution_count": 21,
     "metadata": {},
     "output_type": "execute_result"
    }
   ],
   "source": [
    "data['Club'] = data['Club'].fillna('Free')\n",
    "data = data.join(pd.get_dummies(data['Club']))\n",
    "data.drop(['Club'],axis=1,inplace=True)\n",
    "data.shape"
   ]
  },
  {
   "cell_type": "code",
   "execution_count": 22,
   "id": "given-episode",
   "metadata": {},
   "outputs": [
    {
     "name": "stdout",
     "output_type": "stream",
     "text": [
      "<class 'pandas.core.frame.DataFrame'>\n",
      "Int64Index: 18207 entries, 0 to 18206\n",
      "Columns: 747 entries, Age to Śląsk Wrocław\n",
      "dtypes: float64(70), int32(2), int64(4), uint8(671)\n",
      "memory usage: 22.8 MB\n"
     ]
    }
   ],
   "source": [
    "data.info()"
   ]
  },
  {
   "cell_type": "code",
   "execution_count": 23,
   "id": "african-medline",
   "metadata": {},
   "outputs": [
    {
     "data": {
      "text/plain": [
       "Index(['Age', 'Overall', 'Potential', 'Value', 'Wage', 'Special',\n",
       "       'Preferred Foot', 'International Reputation', 'Weak Foot',\n",
       "       'Skill Moves',\n",
       "       ...\n",
       "       'Wycombe Wanderers', 'Yeni Malatyaspor', 'Yeovil Town',\n",
       "       'Yokohama F. Marinos', 'Zagłębie Lubin', 'Zagłębie Sosnowiec',\n",
       "       'Çaykur Rizespor', 'Örebro SK', 'Östersunds FK', 'Śląsk Wrocław'],\n",
       "      dtype='object', length=747)"
      ]
     },
     "execution_count": 23,
     "metadata": {},
     "output_type": "execute_result"
    }
   ],
   "source": [
    "data.columns"
   ]
  },
  {
   "cell_type": "markdown",
   "id": "unsigned-repository",
   "metadata": {},
   "source": [
    "Fillna\n",
    "="
   ]
  },
  {
   "cell_type": "code",
   "execution_count": 24,
   "id": "coordinated-detail",
   "metadata": {},
   "outputs": [],
   "source": [
    "def missing_values_table(df):\n",
    "        #计算总的缺失值\n",
    "        mis_val = df.isnull().sum()\n",
    "        \n",
    "        #计算缺失值的百分比\n",
    "        mis_val_percent = 100 * df.isnull().sum() / len(df)\n",
    "   \n",
    "        #把结果制成表格\n",
    "        mis_val_table = pd.concat([mis_val, mis_val_percent], axis=1)\n",
    "        \n",
    "        #对列重命名，第一列：Missing Values，第二列：% of Total Values\n",
    "        mis_val_table_ren_columns = mis_val_table.rename(\n",
    "        columns = {0 : 'Missing Values', 1 : '% of Total Values'})\n",
    "        \n",
    "        #根据百分比对表格进行降序排列\n",
    "        mis_val_table_ren_columns = mis_val_table_ren_columns[\n",
    "            mis_val_table_ren_columns.iloc[:,1] != 0].sort_values(\n",
    "        '% of Total Values', ascending=False).round(1)\n",
    "        \n",
    "        #打印总结信息：总的列数，有数据缺失的列数\n",
    "        print (\"Your selected dataframe has \" + str(df.shape[1]) + \" columns.\\n\"      \n",
    "            \"There are \" + str(mis_val_table_ren_columns.shape[0]) +\n",
    "              \" columns that have missing values.\")\n",
    "        \n",
    "       \n",
    "        # 返回带有缺失值信息的dataframe\n",
    "        return mis_val_table_ren_columns"
   ]
  },
  {
   "cell_type": "code",
   "execution_count": 25,
   "id": "arranged-thermal",
   "metadata": {},
   "outputs": [
    {
     "name": "stdout",
     "output_type": "stream",
     "text": [
      "Your selected dataframe has 747 columns.\n",
      "There are 39 columns that have missing values.\n"
     ]
    },
    {
     "data": {
      "text/html": [
       "<div>\n",
       "<style scoped>\n",
       "    .dataframe tbody tr th:only-of-type {\n",
       "        vertical-align: middle;\n",
       "    }\n",
       "\n",
       "    .dataframe tbody tr th {\n",
       "        vertical-align: top;\n",
       "    }\n",
       "\n",
       "    .dataframe thead th {\n",
       "        text-align: right;\n",
       "    }\n",
       "</style>\n",
       "<table border=\"1\" class=\"dataframe\">\n",
       "  <thead>\n",
       "    <tr style=\"text-align: right;\">\n",
       "      <th></th>\n",
       "      <th>Missing Values</th>\n",
       "      <th>% of Total Values</th>\n",
       "    </tr>\n",
       "  </thead>\n",
       "  <tbody>\n",
       "    <tr>\n",
       "      <th>Release Clause</th>\n",
       "      <td>1564</td>\n",
       "      <td>8.6</td>\n",
       "    </tr>\n",
       "    <tr>\n",
       "      <th>Composure</th>\n",
       "      <td>48</td>\n",
       "      <td>0.3</td>\n",
       "    </tr>\n",
       "    <tr>\n",
       "      <th>Strength</th>\n",
       "      <td>48</td>\n",
       "      <td>0.3</td>\n",
       "    </tr>\n",
       "    <tr>\n",
       "      <th>LongShots</th>\n",
       "      <td>48</td>\n",
       "      <td>0.3</td>\n",
       "    </tr>\n",
       "    <tr>\n",
       "      <th>Aggression</th>\n",
       "      <td>48</td>\n",
       "      <td>0.3</td>\n",
       "    </tr>\n",
       "    <tr>\n",
       "      <th>Interceptions</th>\n",
       "      <td>48</td>\n",
       "      <td>0.3</td>\n",
       "    </tr>\n",
       "    <tr>\n",
       "      <th>Positioning</th>\n",
       "      <td>48</td>\n",
       "      <td>0.3</td>\n",
       "    </tr>\n",
       "    <tr>\n",
       "      <th>Vision</th>\n",
       "      <td>48</td>\n",
       "      <td>0.3</td>\n",
       "    </tr>\n",
       "    <tr>\n",
       "      <th>Penalties</th>\n",
       "      <td>48</td>\n",
       "      <td>0.3</td>\n",
       "    </tr>\n",
       "    <tr>\n",
       "      <th>Marking</th>\n",
       "      <td>48</td>\n",
       "      <td>0.3</td>\n",
       "    </tr>\n",
       "    <tr>\n",
       "      <th>Jumping</th>\n",
       "      <td>48</td>\n",
       "      <td>0.3</td>\n",
       "    </tr>\n",
       "    <tr>\n",
       "      <th>StandingTackle</th>\n",
       "      <td>48</td>\n",
       "      <td>0.3</td>\n",
       "    </tr>\n",
       "    <tr>\n",
       "      <th>SlidingTackle</th>\n",
       "      <td>48</td>\n",
       "      <td>0.3</td>\n",
       "    </tr>\n",
       "    <tr>\n",
       "      <th>GKDiving</th>\n",
       "      <td>48</td>\n",
       "      <td>0.3</td>\n",
       "    </tr>\n",
       "    <tr>\n",
       "      <th>GKHandling</th>\n",
       "      <td>48</td>\n",
       "      <td>0.3</td>\n",
       "    </tr>\n",
       "    <tr>\n",
       "      <th>GKKicking</th>\n",
       "      <td>48</td>\n",
       "      <td>0.3</td>\n",
       "    </tr>\n",
       "    <tr>\n",
       "      <th>GKPositioning</th>\n",
       "      <td>48</td>\n",
       "      <td>0.3</td>\n",
       "    </tr>\n",
       "    <tr>\n",
       "      <th>GKReflexes</th>\n",
       "      <td>48</td>\n",
       "      <td>0.3</td>\n",
       "    </tr>\n",
       "    <tr>\n",
       "      <th>Stamina</th>\n",
       "      <td>48</td>\n",
       "      <td>0.3</td>\n",
       "    </tr>\n",
       "    <tr>\n",
       "      <th>International Reputation</th>\n",
       "      <td>48</td>\n",
       "      <td>0.3</td>\n",
       "    </tr>\n",
       "    <tr>\n",
       "      <th>Weak Foot</th>\n",
       "      <td>48</td>\n",
       "      <td>0.3</td>\n",
       "    </tr>\n",
       "    <tr>\n",
       "      <th>Dribbling</th>\n",
       "      <td>48</td>\n",
       "      <td>0.3</td>\n",
       "    </tr>\n",
       "    <tr>\n",
       "      <th>Skill Moves</th>\n",
       "      <td>48</td>\n",
       "      <td>0.3</td>\n",
       "    </tr>\n",
       "    <tr>\n",
       "      <th>Height</th>\n",
       "      <td>48</td>\n",
       "      <td>0.3</td>\n",
       "    </tr>\n",
       "    <tr>\n",
       "      <th>Crossing</th>\n",
       "      <td>48</td>\n",
       "      <td>0.3</td>\n",
       "    </tr>\n",
       "    <tr>\n",
       "      <th>Finishing</th>\n",
       "      <td>48</td>\n",
       "      <td>0.3</td>\n",
       "    </tr>\n",
       "    <tr>\n",
       "      <th>HeadingAccuracy</th>\n",
       "      <td>48</td>\n",
       "      <td>0.3</td>\n",
       "    </tr>\n",
       "    <tr>\n",
       "      <th>ShortPassing</th>\n",
       "      <td>48</td>\n",
       "      <td>0.3</td>\n",
       "    </tr>\n",
       "    <tr>\n",
       "      <th>Volleys</th>\n",
       "      <td>48</td>\n",
       "      <td>0.3</td>\n",
       "    </tr>\n",
       "    <tr>\n",
       "      <th>Curve</th>\n",
       "      <td>48</td>\n",
       "      <td>0.3</td>\n",
       "    </tr>\n",
       "    <tr>\n",
       "      <th>Balance</th>\n",
       "      <td>48</td>\n",
       "      <td>0.3</td>\n",
       "    </tr>\n",
       "    <tr>\n",
       "      <th>FKAccuracy</th>\n",
       "      <td>48</td>\n",
       "      <td>0.3</td>\n",
       "    </tr>\n",
       "    <tr>\n",
       "      <th>LongPassing</th>\n",
       "      <td>48</td>\n",
       "      <td>0.3</td>\n",
       "    </tr>\n",
       "    <tr>\n",
       "      <th>BallControl</th>\n",
       "      <td>48</td>\n",
       "      <td>0.3</td>\n",
       "    </tr>\n",
       "    <tr>\n",
       "      <th>Acceleration</th>\n",
       "      <td>48</td>\n",
       "      <td>0.3</td>\n",
       "    </tr>\n",
       "    <tr>\n",
       "      <th>SprintSpeed</th>\n",
       "      <td>48</td>\n",
       "      <td>0.3</td>\n",
       "    </tr>\n",
       "    <tr>\n",
       "      <th>Agility</th>\n",
       "      <td>48</td>\n",
       "      <td>0.3</td>\n",
       "    </tr>\n",
       "    <tr>\n",
       "      <th>Reactions</th>\n",
       "      <td>48</td>\n",
       "      <td>0.3</td>\n",
       "    </tr>\n",
       "    <tr>\n",
       "      <th>ShotPower</th>\n",
       "      <td>48</td>\n",
       "      <td>0.3</td>\n",
       "    </tr>\n",
       "  </tbody>\n",
       "</table>\n",
       "</div>"
      ],
      "text/plain": [
       "                          Missing Values  % of Total Values\n",
       "Release Clause                      1564                8.6\n",
       "Composure                             48                0.3\n",
       "Strength                              48                0.3\n",
       "LongShots                             48                0.3\n",
       "Aggression                            48                0.3\n",
       "Interceptions                         48                0.3\n",
       "Positioning                           48                0.3\n",
       "Vision                                48                0.3\n",
       "Penalties                             48                0.3\n",
       "Marking                               48                0.3\n",
       "Jumping                               48                0.3\n",
       "StandingTackle                        48                0.3\n",
       "SlidingTackle                         48                0.3\n",
       "GKDiving                              48                0.3\n",
       "GKHandling                            48                0.3\n",
       "GKKicking                             48                0.3\n",
       "GKPositioning                         48                0.3\n",
       "GKReflexes                            48                0.3\n",
       "Stamina                               48                0.3\n",
       "International Reputation              48                0.3\n",
       "Weak Foot                             48                0.3\n",
       "Dribbling                             48                0.3\n",
       "Skill Moves                           48                0.3\n",
       "Height                                48                0.3\n",
       "Crossing                              48                0.3\n",
       "Finishing                             48                0.3\n",
       "HeadingAccuracy                       48                0.3\n",
       "ShortPassing                          48                0.3\n",
       "Volleys                               48                0.3\n",
       "Curve                                 48                0.3\n",
       "Balance                               48                0.3\n",
       "FKAccuracy                            48                0.3\n",
       "LongPassing                           48                0.3\n",
       "BallControl                           48                0.3\n",
       "Acceleration                          48                0.3\n",
       "SprintSpeed                           48                0.3\n",
       "Agility                               48                0.3\n",
       "Reactions                             48                0.3\n",
       "ShotPower                             48                0.3"
      ]
     },
     "execution_count": 25,
     "metadata": {},
     "output_type": "execute_result"
    }
   ],
   "source": [
    "missing_values_table(data)"
   ]
  },
  {
   "cell_type": "code",
   "execution_count": 26,
   "id": "north-enough",
   "metadata": {},
   "outputs": [
    {
     "data": {
      "text/plain": [
       "1.1      557\n",
       "1.3      423\n",
       "1.4      386\n",
       "1.2      385\n",
       "1.5      337\n",
       "        ... \n",
       "52.1       1\n",
       "65.3       1\n",
       "545.0      1\n",
       "791.0      1\n",
       "55.3       1\n",
       "Name: Release Clause, Length: 1219, dtype: int64"
      ]
     },
     "execution_count": 26,
     "metadata": {},
     "output_type": "execute_result"
    }
   ],
   "source": [
    "data['Release Clause'].value_counts()"
   ]
  },
  {
   "cell_type": "code",
   "execution_count": 27,
   "id": "chief-nepal",
   "metadata": {},
   "outputs": [
    {
     "data": {
      "text/plain": [
       "0"
      ]
     },
     "execution_count": 27,
     "metadata": {},
     "output_type": "execute_result"
    }
   ],
   "source": [
    "data['Release Clause'] = data['Release Clause'].fillna(1.1)\n",
    "data['Release Clause'].isnull().sum()"
   ]
  },
  {
   "cell_type": "code",
   "execution_count": 28,
   "id": "laughing-organization",
   "metadata": {},
   "outputs": [
    {
     "data": {
      "text/plain": [
       "(18159, 747)"
      ]
     },
     "execution_count": 28,
     "metadata": {},
     "output_type": "execute_result"
    }
   ],
   "source": [
    "data.dropna(inplace=True)\n",
    "data.shape"
   ]
  },
  {
   "cell_type": "code",
   "execution_count": 29,
   "id": "statistical-grill",
   "metadata": {},
   "outputs": [],
   "source": [
    "data.to_csv(\"./encodeData.csv\")"
   ]
  },
  {
   "cell_type": "code",
   "execution_count": null,
   "id": "twenty-civilization",
   "metadata": {},
   "outputs": [],
   "source": []
  }
 ],
 "metadata": {
  "kernelspec": {
   "display_name": "Python 3",
   "language": "python",
   "name": "python3"
  },
  "language_info": {
   "codemirror_mode": {
    "name": "ipython",
    "version": 3
   },
   "file_extension": ".py",
   "mimetype": "text/x-python",
   "name": "python",
   "nbconvert_exporter": "python",
   "pygments_lexer": "ipython3",
   "version": "3.7.7"
  },
  "varInspector": {
   "cols": {
    "lenName": 16,
    "lenType": 16,
    "lenVar": 40
   },
   "kernels_config": {
    "python": {
     "delete_cmd_postfix": "",
     "delete_cmd_prefix": "del ",
     "library": "var_list.py",
     "varRefreshCmd": "print(var_dic_list())"
    },
    "r": {
     "delete_cmd_postfix": ") ",
     "delete_cmd_prefix": "rm(",
     "library": "var_list.r",
     "varRefreshCmd": "cat(var_dic_list()) "
    }
   },
   "types_to_exclude": [
    "module",
    "function",
    "builtin_function_or_method",
    "instance",
    "_Feature"
   ],
   "window_display": false
  }
 },
 "nbformat": 4,
 "nbformat_minor": 5
}
