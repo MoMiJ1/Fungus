{
 "cells": [
  {
   "cell_type": "code",
   "execution_count": 1,
   "id": "informal-aside",
   "metadata": {},
   "outputs": [],
   "source": [
    "import pandas as pd\n",
    "import matplotlib.pyplot as plt\n",
    "import seaborn as sns\n",
    "import warnings\n",
    "from numpy import timedelta64\n",
    "warnings.filterwarnings(\"ignore\")\n",
    "\n",
    "fp = \"M:/DataSet/usaccident/US_Accidents_Dec20.csv\""
   ]
  },
  {
   "cell_type": "code",
   "execution_count": 3,
   "id": "consistent-bicycle",
   "metadata": {},
   "outputs": [
    {
     "data": {
      "text/plain": [
       "(4232541, 49)"
      ]
     },
     "execution_count": 3,
     "metadata": {},
     "output_type": "execute_result"
    }
   ],
   "source": [
    "data = pd.read_csv(\"M:/DataSet/usaccident/US_Accidents_Dec20.csv\")\n",
    "data.shape"
   ]
  },
  {
   "cell_type": "code",
   "execution_count": 4,
   "id": "ranging-director",
   "metadata": {},
   "outputs": [
    {
     "data": {
      "text/plain": [
       "(406169, 49)"
      ]
     },
     "execution_count": 4,
     "metadata": {},
     "output_type": "execute_result"
    }
   ],
   "source": [
    "mask = (data['State'] == 'NC') | (data['State'] == 'SC')\n",
    "data = data[mask]\n",
    "data.shape"
   ]
  },
  {
   "cell_type": "code",
   "execution_count": 6,
   "id": "anonymous-partner",
   "metadata": {},
   "outputs": [],
   "source": [
    "SC = data[data['State'] == 'SC']\n",
    "NC = data[data['State'] == 'NC']\n",
    "\n",
    "SC.to_csv(\"M:/DataSet/usaccident/real/SC.csv\")\n",
    "NC.to_csv(\"M:/DataSet/usaccident/real/NC.csv\")"
   ]
  },
  {
   "cell_type": "code",
   "execution_count": null,
   "id": "matched-fault",
   "metadata": {},
   "outputs": [],
   "source": []
  },
  {
   "cell_type": "code",
   "execution_count": null,
   "id": "interstate-environment",
   "metadata": {},
   "outputs": [],
   "source": []
  },
  {
   "cell_type": "code",
   "execution_count": null,
   "id": "possible-airplane",
   "metadata": {},
   "outputs": [],
   "source": []
  }
 ],
 "metadata": {
  "kernelspec": {
   "display_name": "Python 3",
   "language": "python",
   "name": "python3"
  },
  "language_info": {
   "codemirror_mode": {
    "name": "ipython",
    "version": 3
   },
   "file_extension": ".py",
   "mimetype": "text/x-python",
   "name": "python",
   "nbconvert_exporter": "python",
   "pygments_lexer": "ipython3",
   "version": "3.7.7"
  },
  "varInspector": {
   "cols": {
    "lenName": 16,
    "lenType": 16,
    "lenVar": 40
   },
   "kernels_config": {
    "python": {
     "delete_cmd_postfix": "",
     "delete_cmd_prefix": "del ",
     "library": "var_list.py",
     "varRefreshCmd": "print(var_dic_list())"
    },
    "r": {
     "delete_cmd_postfix": ") ",
     "delete_cmd_prefix": "rm(",
     "library": "var_list.r",
     "varRefreshCmd": "cat(var_dic_list()) "
    }
   },
   "types_to_exclude": [
    "module",
    "function",
    "builtin_function_or_method",
    "instance",
    "_Feature"
   ],
   "window_display": false
  }
 },
 "nbformat": 4,
 "nbformat_minor": 5
}
