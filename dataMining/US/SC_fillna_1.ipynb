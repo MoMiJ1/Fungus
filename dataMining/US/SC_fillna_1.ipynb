{
 "cells": [
  {
   "cell_type": "code",
   "execution_count": 1,
   "id": "premium-acoustic",
   "metadata": {},
   "outputs": [],
   "source": [
    "import matplotlib.pyplot as plt\n",
    "import pandas as pd\n",
    "import seaborn as sns\n",
    "import numpy as np\n",
    "import warnings\n",
    "from sklearn.preprocessing import OneHotEncoder\n",
    "\n",
    "warnings.filterwarnings(\"ignore\")\n",
    "\n",
    "data = pd.read_csv(\"M:/DataSet/usaccident/real/SC.csv\",index_col=0)"
   ]
  },
  {
   "cell_type": "code",
   "execution_count": 2,
   "id": "heavy-verse",
   "metadata": {},
   "outputs": [],
   "source": [
    "def missing_values_table(df):\n",
    "        #计算总的缺失值\n",
    "        mis_val = df.isnull().sum()\n",
    "        \n",
    "        #计算缺失值的百分比\n",
    "        mis_val_percent = 100 * df.isnull().sum() / len(df)\n",
    "   \n",
    "        #把结果制成表格\n",
    "        mis_val_table = pd.concat([mis_val, mis_val_percent], axis=1)\n",
    "        \n",
    "        #对列重命名，第一列：Missing Values，第二列：% of Total Values\n",
    "        mis_val_table_ren_columns = mis_val_table.rename(\n",
    "        columns = {0 : 'Missing Values', 1 : '% of Total Values'})\n",
    "        \n",
    "        #根据百分比对表格进行降序排列\n",
    "        mis_val_table_ren_columns = mis_val_table_ren_columns[\n",
    "            mis_val_table_ren_columns.iloc[:,1] != 0].sort_values(\n",
    "        '% of Total Values', ascending=False).round(1)\n",
    "        \n",
    "        #打印总结信息：总的列数，有数据缺失的列数\n",
    "        print (\"Your selected dataframe has \" + str(df.shape[1]) + \" columns.\\n\"      \n",
    "            \"There are \" + str(mis_val_table_ren_columns.shape[0]) +\n",
    "              \" columns that have missing values.\")\n",
    "        \n",
    "       \n",
    "        # 返回带有缺失值信息的dataframe\n",
    "        return mis_val_table_ren_columns"
   ]
  },
  {
   "cell_type": "markdown",
   "id": "handled-crazy",
   "metadata": {},
   "source": [
    "1.数据基本信息\n",
    "="
   ]
  },
  {
   "cell_type": "code",
   "execution_count": 3,
   "id": "functional-pledge",
   "metadata": {},
   "outputs": [
    {
     "name": "stdout",
     "output_type": "stream",
     "text": [
      "<class 'pandas.core.frame.DataFrame'>\n",
      "Int64Index: 212712 entries, 146278 to 4232214\n",
      "Data columns (total 49 columns):\n",
      " #   Column                 Non-Null Count   Dtype  \n",
      "---  ------                 --------------   -----  \n",
      " 0   ID                     212712 non-null  object \n",
      " 1   Source                 212712 non-null  object \n",
      " 2   TMC                    184622 non-null  float64\n",
      " 3   Severity               212712 non-null  int64  \n",
      " 4   Start_Time             212712 non-null  object \n",
      " 5   End_Time               212712 non-null  object \n",
      " 6   Start_Lat              212712 non-null  float64\n",
      " 7   Start_Lng              212712 non-null  float64\n",
      " 8   End_Lat                28090 non-null   float64\n",
      " 9   End_Lng                28090 non-null   float64\n",
      " 10  Distance(mi)           212712 non-null  float64\n",
      " 11  Description            212712 non-null  object \n",
      " 12  Number                 132097 non-null  float64\n",
      " 13  Street                 212712 non-null  object \n",
      " 14  Side                   212712 non-null  object \n",
      " 15  City                   212712 non-null  object \n",
      " 16  County                 212712 non-null  object \n",
      " 17  State                  212712 non-null  object \n",
      " 18  Zipcode                212710 non-null  object \n",
      " 19  Country                212712 non-null  object \n",
      " 20  Timezone               210787 non-null  object \n",
      " 21  Airport_Code           210786 non-null  object \n",
      " 22  Weather_Timestamp      209503 non-null  object \n",
      " 23  Temperature(F)         208777 non-null  float64\n",
      " 24  Wind_Chill(F)          121611 non-null  float64\n",
      " 25  Humidity(%)            208737 non-null  float64\n",
      " 26  Pressure(in)           209193 non-null  float64\n",
      " 27  Visibility(mi)         208443 non-null  float64\n",
      " 28  Wind_Direction         208896 non-null  object \n",
      " 29  Wind_Speed(mph)        185842 non-null  float64\n",
      " 30  Precipitation(in)      118727 non-null  float64\n",
      " 31  Weather_Condition      208527 non-null  object \n",
      " 32  Amenity                212712 non-null  bool   \n",
      " 33  Bump                   212712 non-null  bool   \n",
      " 34  Crossing               212712 non-null  bool   \n",
      " 35  Give_Way               212712 non-null  bool   \n",
      " 36  Junction               212712 non-null  bool   \n",
      " 37  No_Exit                212712 non-null  bool   \n",
      " 38  Railway                212712 non-null  bool   \n",
      " 39  Roundabout             212712 non-null  bool   \n",
      " 40  Station                212712 non-null  bool   \n",
      " 41  Stop                   212712 non-null  bool   \n",
      " 42  Traffic_Calming        212712 non-null  bool   \n",
      " 43  Traffic_Signal         212712 non-null  bool   \n",
      " 44  Turning_Loop           212712 non-null  bool   \n",
      " 45  Sunrise_Sunset         212712 non-null  object \n",
      " 46  Civil_Twilight         212712 non-null  object \n",
      " 47  Nautical_Twilight      212712 non-null  object \n",
      " 48  Astronomical_Twilight  212712 non-null  object \n",
      "dtypes: bool(13), float64(14), int64(1), object(21)\n",
      "memory usage: 62.7+ MB\n"
     ]
    }
   ],
   "source": [
    "data.info()"
   ]
  },
  {
   "cell_type": "code",
   "execution_count": 4,
   "id": "horizontal-enforcement",
   "metadata": {},
   "outputs": [
    {
     "name": "stdout",
     "output_type": "stream",
     "text": [
      "Your selected dataframe has 49 columns.\n",
      "There are 17 columns that have missing values.\n"
     ]
    },
    {
     "data": {
      "text/html": [
       "<div>\n",
       "<style scoped>\n",
       "    .dataframe tbody tr th:only-of-type {\n",
       "        vertical-align: middle;\n",
       "    }\n",
       "\n",
       "    .dataframe tbody tr th {\n",
       "        vertical-align: top;\n",
       "    }\n",
       "\n",
       "    .dataframe thead th {\n",
       "        text-align: right;\n",
       "    }\n",
       "</style>\n",
       "<table border=\"1\" class=\"dataframe\">\n",
       "  <thead>\n",
       "    <tr style=\"text-align: right;\">\n",
       "      <th></th>\n",
       "      <th>Missing Values</th>\n",
       "      <th>% of Total Values</th>\n",
       "    </tr>\n",
       "  </thead>\n",
       "  <tbody>\n",
       "    <tr>\n",
       "      <th>End_Lat</th>\n",
       "      <td>184622</td>\n",
       "      <td>86.8</td>\n",
       "    </tr>\n",
       "    <tr>\n",
       "      <th>End_Lng</th>\n",
       "      <td>184622</td>\n",
       "      <td>86.8</td>\n",
       "    </tr>\n",
       "    <tr>\n",
       "      <th>Precipitation(in)</th>\n",
       "      <td>93985</td>\n",
       "      <td>44.2</td>\n",
       "    </tr>\n",
       "    <tr>\n",
       "      <th>Wind_Chill(F)</th>\n",
       "      <td>91101</td>\n",
       "      <td>42.8</td>\n",
       "    </tr>\n",
       "    <tr>\n",
       "      <th>Number</th>\n",
       "      <td>80615</td>\n",
       "      <td>37.9</td>\n",
       "    </tr>\n",
       "    <tr>\n",
       "      <th>TMC</th>\n",
       "      <td>28090</td>\n",
       "      <td>13.2</td>\n",
       "    </tr>\n",
       "    <tr>\n",
       "      <th>Wind_Speed(mph)</th>\n",
       "      <td>26870</td>\n",
       "      <td>12.6</td>\n",
       "    </tr>\n",
       "    <tr>\n",
       "      <th>Visibility(mi)</th>\n",
       "      <td>4269</td>\n",
       "      <td>2.0</td>\n",
       "    </tr>\n",
       "    <tr>\n",
       "      <th>Weather_Condition</th>\n",
       "      <td>4185</td>\n",
       "      <td>2.0</td>\n",
       "    </tr>\n",
       "    <tr>\n",
       "      <th>Humidity(%)</th>\n",
       "      <td>3975</td>\n",
       "      <td>1.9</td>\n",
       "    </tr>\n",
       "    <tr>\n",
       "      <th>Temperature(F)</th>\n",
       "      <td>3935</td>\n",
       "      <td>1.8</td>\n",
       "    </tr>\n",
       "    <tr>\n",
       "      <th>Wind_Direction</th>\n",
       "      <td>3816</td>\n",
       "      <td>1.8</td>\n",
       "    </tr>\n",
       "    <tr>\n",
       "      <th>Pressure(in)</th>\n",
       "      <td>3519</td>\n",
       "      <td>1.7</td>\n",
       "    </tr>\n",
       "    <tr>\n",
       "      <th>Weather_Timestamp</th>\n",
       "      <td>3209</td>\n",
       "      <td>1.5</td>\n",
       "    </tr>\n",
       "    <tr>\n",
       "      <th>Airport_Code</th>\n",
       "      <td>1926</td>\n",
       "      <td>0.9</td>\n",
       "    </tr>\n",
       "    <tr>\n",
       "      <th>Timezone</th>\n",
       "      <td>1925</td>\n",
       "      <td>0.9</td>\n",
       "    </tr>\n",
       "    <tr>\n",
       "      <th>Zipcode</th>\n",
       "      <td>2</td>\n",
       "      <td>0.0</td>\n",
       "    </tr>\n",
       "  </tbody>\n",
       "</table>\n",
       "</div>"
      ],
      "text/plain": [
       "                   Missing Values  % of Total Values\n",
       "End_Lat                    184622               86.8\n",
       "End_Lng                    184622               86.8\n",
       "Precipitation(in)           93985               44.2\n",
       "Wind_Chill(F)               91101               42.8\n",
       "Number                      80615               37.9\n",
       "TMC                         28090               13.2\n",
       "Wind_Speed(mph)             26870               12.6\n",
       "Visibility(mi)               4269                2.0\n",
       "Weather_Condition            4185                2.0\n",
       "Humidity(%)                  3975                1.9\n",
       "Temperature(F)               3935                1.8\n",
       "Wind_Direction               3816                1.8\n",
       "Pressure(in)                 3519                1.7\n",
       "Weather_Timestamp            3209                1.5\n",
       "Airport_Code                 1926                0.9\n",
       "Timezone                     1925                0.9\n",
       "Zipcode                         2                0.0"
      ]
     },
     "execution_count": 4,
     "metadata": {},
     "output_type": "execute_result"
    }
   ],
   "source": [
    "missing_values_table(data)"
   ]
  },
  {
   "cell_type": "code",
   "execution_count": 5,
   "id": "indie-detail",
   "metadata": {},
   "outputs": [
    {
     "data": {
      "text/plain": [
       "ID                       212712\n",
       "Source                        3\n",
       "TMC                          16\n",
       "Severity                      4\n",
       "Start_Time               205855\n",
       "End_Time                 204398\n",
       "Start_Lat                 77905\n",
       "Start_Lng                 77607\n",
       "End_Lat                   15848\n",
       "End_Lng                   15890\n",
       "Distance(mi)               3100\n",
       "Description              103506\n",
       "Number                     9140\n",
       "Street                    23021\n",
       "Side                          2\n",
       "City                        325\n",
       "County                       47\n",
       "State                         1\n",
       "Zipcode                   47261\n",
       "Country                       1\n",
       "Timezone                      1\n",
       "Airport_Code                 57\n",
       "Weather_Timestamp         97361\n",
       "Temperature(F)              488\n",
       "Wind_Chill(F)               397\n",
       "Humidity(%)                  94\n",
       "Pressure(in)                257\n",
       "Visibility(mi)               30\n",
       "Wind_Direction               24\n",
       "Wind_Speed(mph)              63\n",
       "Precipitation(in)           122\n",
       "Weather_Condition            54\n",
       "Amenity                       2\n",
       "Bump                          2\n",
       "Crossing                      2\n",
       "Give_Way                      2\n",
       "Junction                      2\n",
       "No_Exit                       2\n",
       "Railway                       2\n",
       "Roundabout                    2\n",
       "Station                       2\n",
       "Stop                          2\n",
       "Traffic_Calming               2\n",
       "Traffic_Signal                2\n",
       "Turning_Loop                  1\n",
       "Sunrise_Sunset                2\n",
       "Civil_Twilight                2\n",
       "Nautical_Twilight             2\n",
       "Astronomical_Twilight         2\n",
       "dtype: int64"
      ]
     },
     "execution_count": 5,
     "metadata": {},
     "output_type": "execute_result"
    }
   ],
   "source": [
    "data.nunique()"
   ]
  },
  {
   "cell_type": "code",
   "execution_count": 6,
   "id": "amber-thomas",
   "metadata": {},
   "outputs": [
    {
     "data": {
      "text/plain": [
       "(212712, 42)"
      ]
     },
     "execution_count": 6,
     "metadata": {},
     "output_type": "execute_result"
    }
   ],
   "source": [
    "dropCols = [\"End_Lat\",\"End_Lng\",\n",
    "            \"Timezone\",\"Country\",\"State\",\"Turning_Loop\",'Weather_Timestamp']\n",
    "data.drop(dropCols,axis=1,inplace=True)\n",
    "data.shape"
   ]
  },
  {
   "cell_type": "markdown",
   "id": "brazilian-chase",
   "metadata": {},
   "source": [
    "数据预处理\n",
    "="
   ]
  },
  {
   "cell_type": "markdown",
   "id": "controlled-conjunction",
   "metadata": {},
   "source": [
    "1.时间特征"
   ]
  },
  {
   "cell_type": "code",
   "execution_count": 7,
   "id": "south-visiting",
   "metadata": {},
   "outputs": [
    {
     "data": {
      "text/html": [
       "<div>\n",
       "<style scoped>\n",
       "    .dataframe tbody tr th:only-of-type {\n",
       "        vertical-align: middle;\n",
       "    }\n",
       "\n",
       "    .dataframe tbody tr th {\n",
       "        vertical-align: top;\n",
       "    }\n",
       "\n",
       "    .dataframe thead th {\n",
       "        text-align: right;\n",
       "    }\n",
       "</style>\n",
       "<table border=\"1\" class=\"dataframe\">\n",
       "  <thead>\n",
       "    <tr style=\"text-align: right;\">\n",
       "      <th></th>\n",
       "      <th>Year</th>\n",
       "      <th>Month</th>\n",
       "      <th>Day</th>\n",
       "      <th>Hour</th>\n",
       "      <th>Weekday</th>\n",
       "      <th>Duration</th>\n",
       "    </tr>\n",
       "  </thead>\n",
       "  <tbody>\n",
       "    <tr>\n",
       "      <th>146278</th>\n",
       "      <td>2016</td>\n",
       "      <td>11</td>\n",
       "      <td>30</td>\n",
       "      <td>16</td>\n",
       "      <td>2</td>\n",
       "      <td>44</td>\n",
       "    </tr>\n",
       "    <tr>\n",
       "      <th>146285</th>\n",
       "      <td>2016</td>\n",
       "      <td>11</td>\n",
       "      <td>30</td>\n",
       "      <td>17</td>\n",
       "      <td>2</td>\n",
       "      <td>44</td>\n",
       "    </tr>\n",
       "    <tr>\n",
       "      <th>146291</th>\n",
       "      <td>2016</td>\n",
       "      <td>11</td>\n",
       "      <td>30</td>\n",
       "      <td>18</td>\n",
       "      <td>2</td>\n",
       "      <td>44</td>\n",
       "    </tr>\n",
       "    <tr>\n",
       "      <th>146294</th>\n",
       "      <td>2016</td>\n",
       "      <td>11</td>\n",
       "      <td>30</td>\n",
       "      <td>19</td>\n",
       "      <td>2</td>\n",
       "      <td>44</td>\n",
       "    </tr>\n",
       "    <tr>\n",
       "      <th>146295</th>\n",
       "      <td>2016</td>\n",
       "      <td>11</td>\n",
       "      <td>30</td>\n",
       "      <td>19</td>\n",
       "      <td>2</td>\n",
       "      <td>44</td>\n",
       "    </tr>\n",
       "  </tbody>\n",
       "</table>\n",
       "</div>"
      ],
      "text/plain": [
       "        Year  Month  Day  Hour  Weekday  Duration\n",
       "146278  2016     11   30    16        2        44\n",
       "146285  2016     11   30    17        2        44\n",
       "146291  2016     11   30    18        2        44\n",
       "146294  2016     11   30    19        2        44\n",
       "146295  2016     11   30    19        2        44"
      ]
     },
     "execution_count": 7,
     "metadata": {},
     "output_type": "execute_result"
    }
   ],
   "source": [
    "data['Start_Time'] = pd.to_datetime(data['Start_Time'])\n",
    "data['End_Time'] = pd.to_datetime(data['End_Time'])\n",
    "\n",
    "data['Year'] = data['Start_Time'].dt.year\n",
    "data['Month'] = data['Start_Time'].dt.month\n",
    "data['Day'] = data['Start_Time'].dt.day\n",
    "data['Hour'] = data['Start_Time'].dt.hour\n",
    "data['Weekday'] = data['Start_Time'].dt.weekday\n",
    "data['Duration'] = (data['End_Time'] - data['Start_Time'])/np.timedelta64(1,'m')\n",
    "data['Duration'] = data['Duration'].astype(int)\n",
    "\n",
    "data.drop(['Start_Time','End_Time'],axis=1,inplace=True)\n",
    "\n",
    "data[['Year','Month','Day','Hour','Weekday','Duration']].head(5)"
   ]
  },
  {
   "cell_type": "markdown",
   "id": "athletic-anxiety",
   "metadata": {},
   "source": [
    "2.缺失值"
   ]
  },
  {
   "cell_type": "code",
   "execution_count": 8,
   "id": "silver-spokesman",
   "metadata": {},
   "outputs": [
    {
     "data": {
      "text/plain": [
       "201.0    176866\n",
       "241.0      6514\n",
       "245.0       496\n",
       "202.0       212\n",
       "229.0       129\n",
       "343.0       112\n",
       "222.0        72\n",
       "247.0        53\n",
       "406.0        49\n",
       "236.0        41\n",
       "244.0        34\n",
       "206.0        25\n",
       "203.0        10\n",
       "246.0         5\n",
       "248.0         3\n",
       "339.0         1\n",
       "Name: TMC, dtype: int64"
      ]
     },
     "execution_count": 8,
     "metadata": {},
     "output_type": "execute_result"
    }
   ],
   "source": [
    "''' TMC:用众数填充 '''\n",
    "\n",
    "data['TMC'].value_counts(ascending=False)"
   ]
  },
  {
   "cell_type": "code",
   "execution_count": 9,
   "id": "rapid-toolbox",
   "metadata": {},
   "outputs": [
    {
     "data": {
      "text/plain": [
       "0"
      ]
     },
     "execution_count": 9,
     "metadata": {},
     "output_type": "execute_result"
    }
   ],
   "source": [
    "data['TMC'] = data['TMC'].fillna(201)\n",
    "data['TMC'].isnull().sum()"
   ]
  },
  {
   "cell_type": "code",
   "execution_count": 10,
   "id": "signal-injury",
   "metadata": {},
   "outputs": [
    {
     "data": {
      "text/plain": [
       "CALM        28511\n",
       "Calm        22086\n",
       "SW          14428\n",
       "WSW         13192\n",
       "NE          13006\n",
       "NNE         11986\n",
       "SSW         11322\n",
       "ENE          9517\n",
       "W            6528\n",
       "West         6345\n",
       "North        6329\n",
       "N            6113\n",
       "VAR          5982\n",
       "South        5963\n",
       "S            5819\n",
       "SSE          5677\n",
       "WNW          5333\n",
       "NNW          4808\n",
       "Variable     4755\n",
       "E            4518\n",
       "NW           4329\n",
       "SE           4158\n",
       "ESE          4150\n",
       "East         4041\n",
       "Name: Wind_Direction, dtype: int64"
      ]
     },
     "execution_count": 10,
     "metadata": {},
     "output_type": "execute_result"
    }
   ],
   "source": [
    "''' Wind_Speed : calm风向填充为0，其余按地区时间填充'''\n",
    "\n",
    "data['Wind_Direction'].value_counts(ascending=False)"
   ]
  },
  {
   "cell_type": "code",
   "execution_count": 11,
   "id": "norwegian-sponsorship",
   "metadata": {},
   "outputs": [
    {
     "data": {
      "text/plain": [
       "0"
      ]
     },
     "execution_count": 11,
     "metadata": {},
     "output_type": "execute_result"
    }
   ],
   "source": [
    "data.loc[data['Wind_Direction']=='Calm','Wind_Speed(mph)'] = 0\n",
    "data['Wind_Speed(mph)'] = data.groupby(['Street','Year','Month','Day','Hour'])['Wind_Speed(mph)'].apply(lambda x: x.fillna(x.mean()))\n",
    "data['Wind_Speed(mph)'] = data['Wind_Speed(mph)'].fillna(data['Wind_Speed(mph)'].mean())\n",
    "data['Wind_Speed(mph)'].isnull().sum()"
   ]
  },
  {
   "cell_type": "code",
   "execution_count": 12,
   "id": "blond-projector",
   "metadata": {},
   "outputs": [
    {
     "data": {
      "text/plain": [
       "0"
      ]
     },
     "execution_count": 12,
     "metadata": {},
     "output_type": "execute_result"
    }
   ],
   "source": [
    "''' Temperature:用城市各年各月的平均值填充 '''\n",
    "\n",
    "data['Temperature(F)'] = data.groupby(['Street','Year','Month','Day','Hour'])['Temperature(F)'].apply(lambda x: x.fillna(x.mean()))\n",
    "data['Temperature(F)'] = data['Temperature(F)'].fillna(data['Temperature(F)'].mean())\n",
    "data['Temperature(F)'].isnull().sum()"
   ]
  },
  {
   "cell_type": "code",
   "execution_count": 13,
   "id": "behind-angola",
   "metadata": {},
   "outputs": [
    {
     "data": {
      "text/plain": [
       "0"
      ]
     },
     "execution_count": 13,
     "metadata": {},
     "output_type": "execute_result"
    }
   ],
   "source": [
    "''' Humidity:同Temperature '''\n",
    "\n",
    "data['Humidity(%)'] = data.groupby(['Street','Year','Month','Day','Hour'])['Humidity(%)'].apply(lambda x: x.fillna(x.mean()))\n",
    "data['Humidity(%)'] = data['Humidity(%)'].fillna(data['Humidity(%)'].mean())\n",
    "data['Humidity(%)'].isnull().sum()"
   ]
  },
  {
   "cell_type": "code",
   "execution_count": 14,
   "id": "exciting-diameter",
   "metadata": {},
   "outputs": [
    {
     "data": {
      "text/plain": [
       "0"
      ]
     },
     "execution_count": 14,
     "metadata": {},
     "output_type": "execute_result"
    }
   ],
   "source": [
    "''' Visibility:同Temperature '''\n",
    "\n",
    "data['Visibility(mi)'] = data.groupby(['Street','Year','Month','Day','Hour'])['Visibility(mi)'].apply(lambda x: x.fillna(x.mean()))\n",
    "data['Visibility(mi)'] = data['Visibility(mi)'].fillna(data['Visibility(mi)'].mean())\n",
    "data['Visibility(mi)'].isnull().sum()"
   ]
  },
  {
   "cell_type": "code",
   "execution_count": 15,
   "id": "bound-airplane",
   "metadata": {},
   "outputs": [
    {
     "data": {
      "text/plain": [
       "0"
      ]
     },
     "execution_count": 15,
     "metadata": {},
     "output_type": "execute_result"
    }
   ],
   "source": [
    "''' Precipitation(in):同Temperature '''\n",
    "\n",
    "data['Precipitation(in)'] = data.groupby(['Street','Year','Month','Day','Hour'])['Precipitation(in)'].apply(lambda x: x.fillna(x.mean()))\n",
    "data['Precipitation(in)'] = data['Precipitation(in)'].fillna(data['Precipitation(in)'].mean())\n",
    "data['Precipitation(in)'].isnull().sum()"
   ]
  },
  {
   "cell_type": "code",
   "execution_count": 16,
   "id": "european-legislature",
   "metadata": {},
   "outputs": [
    {
     "data": {
      "text/plain": [
       "0"
      ]
     },
     "execution_count": 16,
     "metadata": {},
     "output_type": "execute_result"
    }
   ],
   "source": [
    "''' Wind_Chill(F):同Temperature '''\n",
    "\n",
    "data['Wind_Chill(F)'] = data.groupby(['Street','Year','Month','Day','Hour'])['Wind_Chill(F)'].apply(lambda x: x.fillna(x.mean()))\n",
    "data['Wind_Chill(F)'] = data['Wind_Chill(F)'].fillna(data['Wind_Chill(F)'].mean())\n",
    "data['Wind_Chill(F)'].isnull().sum()"
   ]
  },
  {
   "cell_type": "code",
   "execution_count": 17,
   "id": "compressed-klein",
   "metadata": {},
   "outputs": [
    {
     "data": {
      "text/plain": [
       "0"
      ]
     },
     "execution_count": 17,
     "metadata": {},
     "output_type": "execute_result"
    }
   ],
   "source": [
    "''' Pressure(in):同Temperature '''\n",
    "\n",
    "data['Pressure(in)'] = data.groupby(['Street','Year','Month','Day','Hour'])['Pressure(in)'].apply(lambda x: x.fillna(x.mean()))\n",
    "data['Pressure(in)'] = data['Pressure(in)'].fillna(data['Pressure(in)'].mean())\n",
    "data['Pressure(in)'].isnull().sum()"
   ]
  },
  {
   "cell_type": "code",
   "execution_count": 18,
   "id": "confused-warner",
   "metadata": {},
   "outputs": [
    {
     "name": "stdout",
     "output_type": "stream",
     "text": [
      "Your selected dataframe has 45 columns.\n",
      "There are 4 columns that have missing values.\n"
     ]
    },
    {
     "data": {
      "text/html": [
       "<div>\n",
       "<style scoped>\n",
       "    .dataframe tbody tr th:only-of-type {\n",
       "        vertical-align: middle;\n",
       "    }\n",
       "\n",
       "    .dataframe tbody tr th {\n",
       "        vertical-align: top;\n",
       "    }\n",
       "\n",
       "    .dataframe thead th {\n",
       "        text-align: right;\n",
       "    }\n",
       "</style>\n",
       "<table border=\"1\" class=\"dataframe\">\n",
       "  <thead>\n",
       "    <tr style=\"text-align: right;\">\n",
       "      <th></th>\n",
       "      <th>Missing Values</th>\n",
       "      <th>% of Total Values</th>\n",
       "    </tr>\n",
       "  </thead>\n",
       "  <tbody>\n",
       "    <tr>\n",
       "      <th>Weather_Condition</th>\n",
       "      <td>4185</td>\n",
       "      <td>2.0</td>\n",
       "    </tr>\n",
       "    <tr>\n",
       "      <th>Wind_Direction</th>\n",
       "      <td>3816</td>\n",
       "      <td>1.8</td>\n",
       "    </tr>\n",
       "    <tr>\n",
       "      <th>Airport_Code</th>\n",
       "      <td>1926</td>\n",
       "      <td>0.9</td>\n",
       "    </tr>\n",
       "    <tr>\n",
       "      <th>Zipcode</th>\n",
       "      <td>2</td>\n",
       "      <td>0.0</td>\n",
       "    </tr>\n",
       "  </tbody>\n",
       "</table>\n",
       "</div>"
      ],
      "text/plain": [
       "                   Missing Values  % of Total Values\n",
       "Weather_Condition            4185                2.0\n",
       "Wind_Direction               3816                1.8\n",
       "Airport_Code                 1926                0.9\n",
       "Zipcode                         2                0.0"
      ]
     },
     "execution_count": 18,
     "metadata": {},
     "output_type": "execute_result"
    }
   ],
   "source": [
    "data.drop(['Number'],axis=1,inplace=True)\n",
    "missing_values_table(data)"
   ]
  },
  {
   "cell_type": "code",
   "execution_count": 19,
   "id": "exceptional-medium",
   "metadata": {},
   "outputs": [
    {
     "data": {
      "text/html": [
       "<div>\n",
       "<style scoped>\n",
       "    .dataframe tbody tr th:only-of-type {\n",
       "        vertical-align: middle;\n",
       "    }\n",
       "\n",
       "    .dataframe tbody tr th {\n",
       "        vertical-align: top;\n",
       "    }\n",
       "\n",
       "    .dataframe thead th {\n",
       "        text-align: right;\n",
       "    }\n",
       "</style>\n",
       "<table border=\"1\" class=\"dataframe\">\n",
       "  <thead>\n",
       "    <tr style=\"text-align: right;\">\n",
       "      <th></th>\n",
       "      <th>Airport_Code</th>\n",
       "      <th>Zipcode</th>\n",
       "    </tr>\n",
       "  </thead>\n",
       "  <tbody>\n",
       "    <tr>\n",
       "      <th>146278</th>\n",
       "      <td>KAND</td>\n",
       "      <td>29655-9004</td>\n",
       "    </tr>\n",
       "    <tr>\n",
       "      <th>146285</th>\n",
       "      <td>KGRD</td>\n",
       "      <td>29646-3029</td>\n",
       "    </tr>\n",
       "    <tr>\n",
       "      <th>146291</th>\n",
       "      <td>KEOE</td>\n",
       "      <td>29108</td>\n",
       "    </tr>\n",
       "    <tr>\n",
       "      <th>146294</th>\n",
       "      <td>KGRD</td>\n",
       "      <td>29649-1300</td>\n",
       "    </tr>\n",
       "    <tr>\n",
       "      <th>146295</th>\n",
       "      <td>KAGS</td>\n",
       "      <td>29842-7685</td>\n",
       "    </tr>\n",
       "  </tbody>\n",
       "</table>\n",
       "</div>"
      ],
      "text/plain": [
       "       Airport_Code     Zipcode\n",
       "146278         KAND  29655-9004\n",
       "146285         KGRD  29646-3029\n",
       "146291         KEOE       29108\n",
       "146294         KGRD  29649-1300\n",
       "146295         KAGS  29842-7685"
      ]
     },
     "execution_count": 19,
     "metadata": {},
     "output_type": "execute_result"
    }
   ],
   "source": [
    "data[['Airport_Code','Zipcode']].head(5)"
   ]
  },
  {
   "cell_type": "code",
   "execution_count": 23,
   "id": "ultimate-vegetable",
   "metadata": {},
   "outputs": [
    {
     "data": {
      "text/plain": [
       "Fair             57502\n",
       "Clear            44275\n",
       "Mostly Cloudy    21723\n",
       "Cloudy           17348\n",
       "Partly Cloudy    15853\n",
       "Name: Weather_Condition, dtype: int64"
      ]
     },
     "execution_count": 23,
     "metadata": {},
     "output_type": "execute_result"
    }
   ],
   "source": [
    "data['Weather_Condition'].value_counts()[:5]"
   ]
  },
  {
   "cell_type": "code",
   "execution_count": 31,
   "id": "false-latex",
   "metadata": {},
   "outputs": [
    {
     "data": {
      "text/plain": [
       "0"
      ]
     },
     "execution_count": 31,
     "metadata": {},
     "output_type": "execute_result"
    }
   ],
   "source": [
    "''' Weather_Condition:用众数 '''\n",
    "\n",
    "data['Weather_Condition'] = data.groupby(['Street','Year','Month','Day'])['Weather_Condition'].apply(lambda x: x.fillna(x.mode()))\n",
    "data['Weather_Condition'] = data['Weather_Condition'].fillna(data['Weather_Condition'].mode()[0])\n",
    "data['Weather_Condition'].isnull().sum()"
   ]
  },
  {
   "cell_type": "code",
   "execution_count": 32,
   "id": "insured-region",
   "metadata": {},
   "outputs": [
    {
     "data": {
      "text/plain": [
       "0"
      ]
     },
     "execution_count": 32,
     "metadata": {},
     "output_type": "execute_result"
    }
   ],
   "source": [
    "''' Wind_Direction:用众数 '''\n",
    "\n",
    "data['Wind_Direction'] = data.groupby(['Street','Year','Month','Day'])['Wind_Direction'].apply(lambda x: x.fillna(x.mode()))\n",
    "data['Wind_Direction'] = data['Wind_Direction'].fillna(data['Wind_Direction'].mode()[0])\n",
    "data['Wind_Direction'].isnull().sum()"
   ]
  },
  {
   "cell_type": "code",
   "execution_count": 33,
   "id": "comfortable-bibliography",
   "metadata": {},
   "outputs": [
    {
     "name": "stdout",
     "output_type": "stream",
     "text": [
      "Your selected dataframe has 45 columns.\n",
      "There are 2 columns that have missing values.\n"
     ]
    },
    {
     "data": {
      "text/html": [
       "<div>\n",
       "<style scoped>\n",
       "    .dataframe tbody tr th:only-of-type {\n",
       "        vertical-align: middle;\n",
       "    }\n",
       "\n",
       "    .dataframe tbody tr th {\n",
       "        vertical-align: top;\n",
       "    }\n",
       "\n",
       "    .dataframe thead th {\n",
       "        text-align: right;\n",
       "    }\n",
       "</style>\n",
       "<table border=\"1\" class=\"dataframe\">\n",
       "  <thead>\n",
       "    <tr style=\"text-align: right;\">\n",
       "      <th></th>\n",
       "      <th>Missing Values</th>\n",
       "      <th>% of Total Values</th>\n",
       "    </tr>\n",
       "  </thead>\n",
       "  <tbody>\n",
       "    <tr>\n",
       "      <th>Airport_Code</th>\n",
       "      <td>1926</td>\n",
       "      <td>0.9</td>\n",
       "    </tr>\n",
       "    <tr>\n",
       "      <th>Zipcode</th>\n",
       "      <td>2</td>\n",
       "      <td>0.0</td>\n",
       "    </tr>\n",
       "  </tbody>\n",
       "</table>\n",
       "</div>"
      ],
      "text/plain": [
       "              Missing Values  % of Total Values\n",
       "Airport_Code            1926                0.9\n",
       "Zipcode                    2                0.0"
      ]
     },
     "execution_count": 33,
     "metadata": {},
     "output_type": "execute_result"
    }
   ],
   "source": [
    "missing_values_table(data)"
   ]
  },
  {
   "cell_type": "code",
   "execution_count": 34,
   "id": "therapeutic-possession",
   "metadata": {},
   "outputs": [
    {
     "data": {
      "text/plain": [
       "0"
      ]
     },
     "execution_count": 34,
     "metadata": {},
     "output_type": "execute_result"
    }
   ],
   "source": [
    "''' Airport_Code:用众数 '''\n",
    "\n",
    "data['Airport_Code'] = data.groupby(['Street'])['Airport_Code'].apply(lambda x: x.fillna(x.mode()))\n",
    "data['Airport_Code'] = data['Airport_Code'].fillna(data['Airport_Code'].mode()[0])\n",
    "data['Airport_Code'].isnull().sum()"
   ]
  },
  {
   "cell_type": "code",
   "execution_count": 35,
   "id": "latter-passport",
   "metadata": {},
   "outputs": [
    {
     "data": {
      "text/plain": [
       "0"
      ]
     },
     "execution_count": 35,
     "metadata": {},
     "output_type": "execute_result"
    }
   ],
   "source": [
    "''' Zip_Code:用众数 '''\n",
    "\n",
    "data['Zipcode'] = data.groupby(['Street'])['Zipcode'].apply(lambda x: x.fillna(x.mode()))\n",
    "data['Zipcode'] = data['Zipcode'].fillna(data['Zipcode'].mode()[0])\n",
    "data['Zipcode'].isnull().sum()"
   ]
  },
  {
   "cell_type": "code",
   "execution_count": 36,
   "id": "statistical-bosnia",
   "metadata": {},
   "outputs": [
    {
     "data": {
      "text/plain": [
       "(212712, 45)"
      ]
     },
     "execution_count": 36,
     "metadata": {},
     "output_type": "execute_result"
    }
   ],
   "source": [
    "data.shape"
   ]
  },
  {
   "cell_type": "code",
   "execution_count": 37,
   "id": "limited-sample",
   "metadata": {},
   "outputs": [],
   "source": [
    "data.to_csv(\"M:/DataSet/usaccident/real/fillna.csv\")"
   ]
  },
  {
   "cell_type": "code",
   "execution_count": null,
   "id": "beneficial-mechanism",
   "metadata": {},
   "outputs": [],
   "source": []
  }
 ],
 "metadata": {
  "kernelspec": {
   "display_name": "Python 3",
   "language": "python",
   "name": "python3"
  },
  "language_info": {
   "codemirror_mode": {
    "name": "ipython",
    "version": 3
   },
   "file_extension": ".py",
   "mimetype": "text/x-python",
   "name": "python",
   "nbconvert_exporter": "python",
   "pygments_lexer": "ipython3",
   "version": "3.7.7"
  },
  "varInspector": {
   "cols": {
    "lenName": 16,
    "lenType": 16,
    "lenVar": 40
   },
   "kernels_config": {
    "python": {
     "delete_cmd_postfix": "",
     "delete_cmd_prefix": "del ",
     "library": "var_list.py",
     "varRefreshCmd": "print(var_dic_list())"
    },
    "r": {
     "delete_cmd_postfix": ") ",
     "delete_cmd_prefix": "rm(",
     "library": "var_list.r",
     "varRefreshCmd": "cat(var_dic_list()) "
    }
   },
   "types_to_exclude": [
    "module",
    "function",
    "builtin_function_or_method",
    "instance",
    "_Feature"
   ],
   "window_display": false
  }
 },
 "nbformat": 4,
 "nbformat_minor": 5
}
