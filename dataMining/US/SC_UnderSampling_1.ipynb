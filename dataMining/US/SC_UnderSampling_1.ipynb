{
 "cells": [
  {
   "cell_type": "code",
   "execution_count": 1,
   "id": "wicked-unemployment",
   "metadata": {},
   "outputs": [
    {
     "name": "stdout",
     "output_type": "stream",
     "text": [
      "<class 'pandas.core.frame.DataFrame'>\n",
      "Int64Index: 212697 entries, 0 to 212696\n",
      "Columns: 312 entries, TMC to yorkrockhillkuza29730\n",
      "dtypes: float64(10), int64(302)\n",
      "memory usage: 507.9 MB\n"
     ]
    }
   ],
   "source": [
    "import pandas as pd\n",
    "import matplotlib.pyplot as plt\n",
    "import seaborn as sns\n",
    "import warnings\n",
    "import numpy as np\n",
    "\n",
    "from sklearn.decomposition import PCA\n",
    "from collections import Counter\n",
    "from sklearn.model_selection import train_test_split, StratifiedKFold\n",
    "from sklearn.preprocessing import RobustScaler\n",
    "\n",
    "from sklearn.utils import resample\n",
    "from sklearn.model_selection import train_test_split, StratifiedKFold,GridSearchCV\n",
    "from sklearn.preprocessing import RobustScaler\n",
    "from sklearn.metrics import confusion_matrix,classification_report,accuracy_score,roc_auc_score\n",
    "from sklearn.tree import plot_tree\n",
    "from imblearn import over_sampling\n",
    "\n",
    "from sklearn.ensemble import RandomForestClassifier\n",
    "from sklearn.tree import DecisionTreeClassifier\n",
    "from catboost import CatBoostClassifier\n",
    "from xgboost import XGBClassifier\n",
    "from lightgbm import LGBMClassifier\n",
    "import imbalanced_ensemble\n",
    "\n",
    "warnings.filterwarnings(\"ignore\")\n",
    "\n",
    "data = pd.read_csv(\"M:/DataSet/usaccident/real/selectData.csv\",index_col=0)\n",
    "data.info()"
   ]
  },
  {
   "cell_type": "code",
   "execution_count": 2,
   "id": "charming-effects",
   "metadata": {},
   "outputs": [
    {
     "data": {
      "text/plain": [
       "((212697, 311), (212697,))"
      ]
     },
     "execution_count": 2,
     "metadata": {},
     "output_type": "execute_result"
    }
   ],
   "source": [
    "Y = data['Severity']\n",
    "X = data.drop([\"Severity\"], axis=1)\n",
    "\n",
    "del data\n",
    "\n",
    "X.shape, Y.shape"
   ]
  },
  {
   "cell_type": "markdown",
   "id": "stunning-laundry",
   "metadata": {},
   "source": [
    "划分数据集\n",
    "="
   ]
  },
  {
   "cell_type": "code",
   "execution_count": 3,
   "id": "voluntary-territory",
   "metadata": {},
   "outputs": [
    {
     "data": {
      "text/plain": [
       "((170157, 311), (42540, 311), (170157,), (42540,))"
      ]
     },
     "execution_count": 3,
     "metadata": {},
     "output_type": "execute_result"
    }
   ],
   "source": [
    "X_train, X_test, Y_train, Y_test = train_test_split(X, Y, test_size=0.2, random_state=10, stratify=Y)\n",
    "\n",
    "scaler = RobustScaler()\n",
    "X_train = scaler.fit_transform(X_train)\n",
    "X_test = scaler.transform(X_test)\n",
    "\n",
    "X_train.shape, X_test.shape, Y_train.shape, Y_test.shape"
   ]
  },
  {
   "cell_type": "markdown",
   "id": "surgical-david",
   "metadata": {},
   "source": [
    "PCA\n",
    "="
   ]
  },
  {
   "cell_type": "code",
   "execution_count": 4,
   "id": "binding-shade",
   "metadata": {},
   "outputs": [
    {
     "name": "stdout",
     "output_type": "stream",
     "text": [
      "0.9990130811837407\n",
      "111\n"
     ]
    }
   ],
   "source": [
    "pca = PCA(n_components=0.999)\n",
    "pca.fit(X_train)\n",
    "print(pca.explained_variance_ratio_.sum())\n",
    "print(len(pca.explained_variance_))"
   ]
  },
  {
   "cell_type": "code",
   "execution_count": 5,
   "id": "cosmetic-judges",
   "metadata": {},
   "outputs": [
    {
     "data": {
      "text/plain": [
       "((170157, 111), (42540, 111))"
      ]
     },
     "execution_count": 5,
     "metadata": {},
     "output_type": "execute_result"
    }
   ],
   "source": [
    "X_train = pca.transform(X_train)\n",
    "X_test = pca.transform(X_test)\n",
    "\n",
    "X_train.shape, X_test.shape"
   ]
  },
  {
   "cell_type": "markdown",
   "id": "qualified-model",
   "metadata": {},
   "source": [
    "EasyEnsemble\n",
    "="
   ]
  },
  {
   "cell_type": "code",
   "execution_count": 6,
   "id": "activated-elizabeth",
   "metadata": {},
   "outputs": [
    {
     "name": "stdout",
     "output_type": "stream",
     "text": [
      "confusion matrix :\n",
      "[[    3     4     3     2]\n",
      " [ 2362 11353  8356  2445]\n",
      " [  205   788  4070   196]\n",
      " [   26    23    11   153]]\n",
      "\n",
      "confusion matrix :\n",
      "[[   13     6     6     0]\n",
      " [ 3328 16082 11949  3500]\n",
      " [  274  1075  5680   298]\n",
      " [   44    44    18   223]]\n",
      "\n",
      "              precision    recall  f1-score   support\n",
      "\n",
      "           1       0.00      0.25      0.00        12\n",
      "           2       0.93      0.46      0.62     24516\n",
      "           3       0.33      0.77      0.46      5259\n",
      "           4       0.05      0.72      0.10       213\n",
      "\n",
      "    accuracy                           0.52     30000\n",
      "   macro avg       0.33      0.55      0.30     30000\n",
      "weighted avg       0.82      0.52      0.59     30000\n",
      "\n",
      "              precision    recall  f1-score   support\n",
      "\n",
      "           1       0.00      0.52      0.01        25\n",
      "           2       0.93      0.46      0.62     34859\n",
      "           3       0.32      0.78      0.45      7327\n",
      "           4       0.06      0.68      0.10       329\n",
      "\n",
      "    accuracy                           0.52     42540\n",
      "   macro avg       0.33      0.61      0.30     42540\n",
      "weighted avg       0.82      0.52      0.59     42540\n",
      "\n"
     ]
    }
   ],
   "source": [
    "ee = imbalanced_ensemble.ensemble.EasyEnsembleClassifier()\n",
    "ee.fit(X_train, Y_train)\n",
    "\n",
    "pred_ee = ee.predict(X_test)\n",
    "y_train_pred = ee.predict(X_train[:30000])\n",
    "\n",
    "mat_train = confusion_matrix(Y_train[:30000],y_train_pred)\n",
    "mat_ee = confusion_matrix(Y_test, pred_ee)\n",
    "\n",
    "print(f\"confusion matrix :\\n{mat_train}\\n\")\n",
    "print(f\"confusion matrix :\\n{mat_ee}\\n\")\n",
    "print(classification_report(Y_train[:30000],y_train_pred))\n",
    "print(classification_report(Y_test, pred_ee))\n",
    "\n",
    "del pred_ee, y_train_pred"
   ]
  },
  {
   "cell_type": "code",
   "execution_count": 7,
   "id": "covered-northwest",
   "metadata": {},
   "outputs": [
    {
     "name": "stdout",
     "output_type": "stream",
     "text": [
      "confusion matrix :\n",
      "[[    6     3     1     2]\n",
      " [ 2421 10857  8686  2552]\n",
      " [  197   798  4085   179]\n",
      " [   26    21    14   152]]\n",
      "\n",
      "confusion matrix :\n",
      "[[   14     5     6     0]\n",
      " [ 3344 15427 12393  3695]\n",
      " [  267  1106  5678   276]\n",
      " [   44    36    31   218]]\n",
      "\n",
      "              precision    recall  f1-score   support\n",
      "\n",
      "           1       0.00      0.50      0.00        12\n",
      "           2       0.93      0.44      0.60     24516\n",
      "           3       0.32      0.78      0.45      5259\n",
      "           4       0.05      0.71      0.10       213\n",
      "\n",
      "    accuracy                           0.50     30000\n",
      "   macro avg       0.33      0.61      0.29     30000\n",
      "weighted avg       0.82      0.50      0.57     30000\n",
      "\n",
      "              precision    recall  f1-score   support\n",
      "\n",
      "           1       0.00      0.56      0.01        25\n",
      "           2       0.93      0.44      0.60     34859\n",
      "           3       0.31      0.77      0.45      7327\n",
      "           4       0.05      0.66      0.10       329\n",
      "\n",
      "    accuracy                           0.50     42540\n",
      "   macro avg       0.33      0.61      0.29     42540\n",
      "weighted avg       0.82      0.50      0.57     42540\n",
      "\n"
     ]
    }
   ],
   "source": [
    "ee_params = {\n",
    "    'n_estimators':[30,50,70,90,100],\n",
    "    'oob_score':[False,True]\n",
    "}\n",
    "clf = GridSearchCV(ee, param_grid=ee_params,cv=5,scoring='recall',n_jobs=-1)\n",
    "clf.fit(X_test, Y_test)\n",
    "\n",
    "\n",
    "ee = imbalanced_ensemble.ensemble.EasyEnsembleClassifier(**clf.best_params_)\n",
    "ee.fit(X_train, Y_train)\n",
    "\n",
    "pred_ee = ee.predict(X_test)\n",
    "y_train_pred = ee.predict(X_train[:30000])\n",
    "\n",
    "mat_train = confusion_matrix(Y_train[:30000],y_train_pred)\n",
    "mat_ee = confusion_matrix(Y_test, pred_ee)\n",
    "\n",
    "print(f\"confusion matrix :\\n{mat_train}\\n\")\n",
    "print(f\"confusion matrix :\\n{mat_ee}\\n\")\n",
    "print(classification_report(Y_train[:30000],y_train_pred))\n",
    "print(classification_report(Y_test, pred_ee))\n",
    "\n",
    "del pred_ee, y_train_pred"
   ]
  },
  {
   "cell_type": "code",
   "execution_count": 8,
   "id": "biblical-reconstruction",
   "metadata": {
    "code_folding": []
   },
   "outputs": [
    {
     "name": "stdout",
     "output_type": "stream",
     "text": [
      "confusion matrix :\n",
      "[[    3     6     1     2]\n",
      " [ 2271 10881  9010  2354]\n",
      " [  207   806  4057   189]\n",
      " [   26    28     9   150]]\n",
      "\n",
      "confusion matrix :\n",
      "[[   13     5     7     0]\n",
      " [ 3257 15557 12699  3346]\n",
      " [  285  1175  5590   277]\n",
      " [   40    44    22   223]]\n",
      "\n",
      "              precision    recall  f1-score   support\n",
      "\n",
      "           1       0.00      0.25      0.00        12\n",
      "           2       0.93      0.44      0.60     24516\n",
      "           3       0.31      0.77      0.44      5259\n",
      "           4       0.06      0.70      0.10       213\n",
      "\n",
      "    accuracy                           0.50     30000\n",
      "   macro avg       0.32      0.54      0.29     30000\n",
      "weighted avg       0.81      0.50      0.57     30000\n",
      "\n",
      "              precision    recall  f1-score   support\n",
      "\n",
      "           1       0.00      0.52      0.01        25\n",
      "           2       0.93      0.45      0.60     34859\n",
      "           3       0.31      0.76      0.44      7327\n",
      "           4       0.06      0.68      0.11       329\n",
      "\n",
      "    accuracy                           0.50     42540\n",
      "   macro avg       0.32      0.60      0.29     42540\n",
      "weighted avg       0.81      0.50      0.57     42540\n",
      "\n"
     ]
    }
   ],
   "source": [
    "ee_params = {\n",
    "    'n_estimators':[30,50,70,100],\n",
    "    'oob_score':[False,True]\n",
    "}\n",
    "clf = GridSearchCV(ee, param_grid=ee_params,cv=5,scoring='roc_auc',n_jobs=-1)\n",
    "clf.fit(X_test, Y_test)\n",
    "\n",
    "\n",
    "ee = imbalanced_ensemble.ensemble.EasyEnsembleClassifier(**clf.best_params_)\n",
    "ee.fit(X_train, Y_train)\n",
    "\n",
    "pred_ee = ee.predict(X_test)\n",
    "y_train_pred = ee.predict(X_train[:30000])\n",
    "\n",
    "mat_train = confusion_matrix(Y_train[:30000],y_train_pred)\n",
    "mat_ee = confusion_matrix(Y_test, pred_ee)\n",
    "\n",
    "print(f\"confusion matrix :\\n{mat_train}\\n\")\n",
    "print(f\"confusion matrix :\\n{mat_ee}\\n\")\n",
    "print(classification_report(Y_train[:30000],y_train_pred))\n",
    "print(classification_report(Y_test, pred_ee))\n",
    "\n",
    "del pred_ee, y_train_pred"
   ]
  },
  {
   "cell_type": "code",
   "execution_count": 9,
   "id": "transsexual-papua",
   "metadata": {},
   "outputs": [
    {
     "name": "stdout",
     "output_type": "stream",
     "text": [
      "confusion matrix :\n",
      "[[    3     5     2     2]\n",
      " [ 2627 10020  9627  2242]\n",
      " [  238   680  4159   182]\n",
      " [   29    24    18   142]]\n",
      "\n",
      "confusion matrix :\n",
      "[[   13     6     6     0]\n",
      " [ 3628 14470 13539  3222]\n",
      " [  336   953  5767   271]\n",
      " [   50    49    32   198]]\n",
      "\n",
      "              precision    recall  f1-score   support\n",
      "\n",
      "           1       0.00      0.25      0.00        12\n",
      "           2       0.93      0.41      0.57     24516\n",
      "           3       0.30      0.79      0.44      5259\n",
      "           4       0.06      0.67      0.10       213\n",
      "\n",
      "    accuracy                           0.48     30000\n",
      "   macro avg       0.32      0.53      0.28     30000\n",
      "weighted avg       0.82      0.48      0.54     30000\n",
      "\n",
      "              precision    recall  f1-score   support\n",
      "\n",
      "           1       0.00      0.52      0.01        25\n",
      "           2       0.93      0.42      0.57     34859\n",
      "           3       0.30      0.79      0.43      7327\n",
      "           4       0.05      0.60      0.10       329\n",
      "\n",
      "    accuracy                           0.48     42540\n",
      "   macro avg       0.32      0.58      0.28     42540\n",
      "weighted avg       0.82      0.48      0.55     42540\n",
      "\n"
     ]
    }
   ],
   "source": [
    "ee_params = {\n",
    "    'n_estimators':[30,50,70,90,100],\n",
    "    'oob_score':[False,True]\n",
    "}\n",
    "clf = GridSearchCV(ee, param_grid=ee_params,cv=5,scoring='precision',n_jobs=-1)\n",
    "clf.fit(X_test, Y_test)\n",
    "\n",
    "\n",
    "ee = imbalanced_ensemble.ensemble.EasyEnsembleClassifier(**clf.best_params_)\n",
    "ee.fit(X_train, Y_train)\n",
    "\n",
    "pred_ee = ee.predict(X_test)\n",
    "y_train_pred = ee.predict(X_train[:30000])\n",
    "\n",
    "mat_train = confusion_matrix(Y_train[:30000],y_train_pred)\n",
    "mat_ee = confusion_matrix(Y_test, pred_ee)\n",
    "\n",
    "print(f\"confusion matrix :\\n{mat_train}\\n\")\n",
    "print(f\"confusion matrix :\\n{mat_ee}\\n\")\n",
    "print(classification_report(Y_train[:30000],y_train_pred))\n",
    "print(classification_report(Y_test, pred_ee))\n",
    "\n",
    "del pred_ee, y_train_pred"
   ]
  },
  {
   "cell_type": "code",
   "execution_count": 10,
   "id": "signed-editing",
   "metadata": {},
   "outputs": [
    {
     "name": "stdout",
     "output_type": "stream",
     "text": [
      "confusion matrix :\n",
      "[[    3     4     3     2]\n",
      " [ 2396 10623  9069  2428]\n",
      " [  210   735  4152   162]\n",
      " [   30    18    15   150]]\n",
      "\n",
      "confusion matrix :\n",
      "[[   13     5     7     0]\n",
      " [ 3315 15215 12802  3527]\n",
      " [  285  1048  5744   250]\n",
      " [   51    36    29   213]]\n",
      "\n",
      "              precision    recall  f1-score   support\n",
      "\n",
      "           1       0.00      0.25      0.00        12\n",
      "           2       0.93      0.43      0.59     24516\n",
      "           3       0.31      0.79      0.45      5259\n",
      "           4       0.05      0.70      0.10       213\n",
      "\n",
      "    accuracy                           0.50     30000\n",
      "   macro avg       0.33      0.54      0.29     30000\n",
      "weighted avg       0.82      0.50      0.56     30000\n",
      "\n",
      "              precision    recall  f1-score   support\n",
      "\n",
      "           1       0.00      0.52      0.01        25\n",
      "           2       0.93      0.44      0.59     34859\n",
      "           3       0.31      0.78      0.44      7327\n",
      "           4       0.05      0.65      0.10       329\n",
      "\n",
      "    accuracy                           0.50     42540\n",
      "   macro avg       0.32      0.60      0.29     42540\n",
      "weighted avg       0.82      0.50      0.56     42540\n",
      "\n"
     ]
    }
   ],
   "source": [
    "ee_params = {\n",
    "    'n_estimators':[30,50,70,90,100],\n",
    "    'oob_score':[False,True]\n",
    "}\n",
    "clf = GridSearchCV(ee, param_grid=ee_params,cv=5,scoring='f1',n_jobs=-1)\n",
    "clf.fit(X_test, Y_test)\n",
    "\n",
    "\n",
    "ee = imbalanced_ensemble.ensemble.EasyEnsembleClassifier(**clf.best_params_)\n",
    "ee.fit(X_train, Y_train)\n",
    "\n",
    "pred_ee = ee.predict(X_test)\n",
    "y_train_pred = ee.predict(X_train[:30000])\n",
    "\n",
    "mat_train = confusion_matrix(Y_train[:30000],y_train_pred)\n",
    "mat_ee = confusion_matrix(Y_test, pred_ee)\n",
    "\n",
    "print(f\"confusion matrix :\\n{mat_train}\\n\")\n",
    "print(f\"confusion matrix :\\n{mat_ee}\\n\")\n",
    "print(classification_report(Y_train[:30000],y_train_pred))\n",
    "print(classification_report(Y_test, pred_ee))\n",
    "\n",
    "del pred_ee, y_train_pred"
   ]
  },
  {
   "cell_type": "markdown",
   "id": "suspected-advisory",
   "metadata": {},
   "source": [
    "BalanceCascade\n",
    "="
   ]
  },
  {
   "cell_type": "code",
   "execution_count": 15,
   "id": "driving-chorus",
   "metadata": {},
   "outputs": [],
   "source": [
    "# clf = imbalanced_ensemble.ensemble.BalanceCascadeClassifier(random_state=0)\n",
    "# clf.fit(X_train, Y_train)\n",
    "\n",
    "# pred_bc = clf.predict(X_test)\n",
    "# y_train_pred = clf.predict(X_train[:30000])\n",
    "\n",
    "# mat_train = confusion_matrix(Y_train[:30000],y_train_pred)\n",
    "# mat_bc = confusion_matrix(Y_test, pred_bc)\n",
    "\n",
    "# print(f\"confusion matrix :\\n{mat_train}\\n\")\n",
    "# print(f\"confusion matrix :\\n{mat_bc}\\n\")\n",
    "# print(classification_report(Y_train[:30000],y_train_pred))\n",
    "# print(classification_report(Y_test, pred_bc))\n",
    "\n",
    "# del pred_bc, y_train_pred"
   ]
  },
  {
   "cell_type": "code",
   "execution_count": null,
   "id": "three-asset",
   "metadata": {},
   "outputs": [],
   "source": []
  },
  {
   "cell_type": "code",
   "execution_count": null,
   "id": "excellent-discount",
   "metadata": {},
   "outputs": [],
   "source": []
  },
  {
   "cell_type": "code",
   "execution_count": null,
   "id": "exotic-present",
   "metadata": {},
   "outputs": [],
   "source": []
  }
 ],
 "metadata": {
  "kernelspec": {
   "display_name": "Python 3",
   "language": "python",
   "name": "python3"
  },
  "language_info": {
   "codemirror_mode": {
    "name": "ipython",
    "version": 3
   },
   "file_extension": ".py",
   "mimetype": "text/x-python",
   "name": "python",
   "nbconvert_exporter": "python",
   "pygments_lexer": "ipython3",
   "version": "3.7.7"
  },
  "varInspector": {
   "cols": {
    "lenName": 16,
    "lenType": 16,
    "lenVar": 40
   },
   "kernels_config": {
    "python": {
     "delete_cmd_postfix": "",
     "delete_cmd_prefix": "del ",
     "library": "var_list.py",
     "varRefreshCmd": "print(var_dic_list())"
    },
    "r": {
     "delete_cmd_postfix": ") ",
     "delete_cmd_prefix": "rm(",
     "library": "var_list.r",
     "varRefreshCmd": "cat(var_dic_list()) "
    }
   },
   "types_to_exclude": [
    "module",
    "function",
    "builtin_function_or_method",
    "instance",
    "_Feature"
   ],
   "window_display": false
  }
 },
 "nbformat": 4,
 "nbformat_minor": 5
}
